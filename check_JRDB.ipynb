{
 "cells": [
  {
   "cell_type": "markdown",
   "id": "bef86cb1",
   "metadata": {},
   "source": [
    "JRDBデータを読み込んでみます。  \n",
    "特に、http://www.jrdb.com/program/Sed/SED080913.txt のJRDB成績データ（SED）のサンプルデータを読んでみます。  \n",
    "https://github-dotcom.gateway.web.tr/absoishi/jrdb/blob/master/jrdb/config/SED.json を参考にしています。\n",
    "\n",
    "「ＪＲＤＢデータのご案内」, http://www.jrdb.com/program/data.html"
   ]
  },
  {
   "cell_type": "code",
   "execution_count": 12,
   "id": "4eb02e57",
   "metadata": {
    "ExecuteTime": {
     "end_time": "2021-06-01T13:07:18.662628Z",
     "start_time": "2021-06-01T13:07:18.650626Z"
    }
   },
   "outputs": [],
   "source": [
    "fname = \"./jrdb_sed_sample.txt\"\n",
    "\n",
    "with open(fname,\"r\") as f:\n",
    "#     lines = f.readlines()\n",
    "    lines = f.read()\n",
    "    "
   ]
  },
  {
   "cell_type": "code",
   "execution_count": 11,
   "id": "801b0317",
   "metadata": {
    "ExecuteTime": {
     "end_time": "2021-06-01T13:04:54.149465Z",
     "start_time": "2021-06-01T13:04:54.139463Z"
    }
   },
   "outputs": [
    {
     "data": {
      "text/plain": [
       "'01082101050610236820080913コリコパット\\u3000\\u3000\\u3000\\u3000\\u3000\\u3000\\u3000\\u3000\\u3000\\u3000\\u3000\\u300012001111011A31023 \\u3000\\u3000\\u3000\\u3000\\u3000\\u3000\\u3000\\u3000\\u3000\\u3000\\u3000\\u3000\\u3000\\u3000\\u3000\\u3000\\u3000\\u3000\\u3000\\u3000\\u3000\\u3000\\u3000\\u3000\\u300008\\u3000\\u3000\\u3000\\u30000301109540藤田伸二\\u3000\\u3000武藤善則\\u3000\\u3000  17.105 40 36 -8  1  1  2               331823MM-14.0 -9.4 -5.8 -2.0ヒカルジョデ006349360                             2.3  20.5   2.500060602 -4 -41039210374440- 4114           240  130    033335    \\n'"
      ]
     },
     "execution_count": 11,
     "metadata": {},
     "output_type": "execute_result"
    }
   ],
   "source": [
    "lines[4]"
   ]
  },
  {
   "cell_type": "code",
   "execution_count": 65,
   "id": "59f7c36c",
   "metadata": {
    "ExecuteTime": {
     "end_time": "2021-06-01T14:19:17.324977Z",
     "start_time": "2021-06-01T14:19:17.312970Z"
    }
   },
   "outputs": [
    {
     "data": {
      "text/plain": [
       "'01082101010610284320080913ヒカルジョディー          12001111011A31023                          08    0101103540秋山真一郎 中尾秀正     8.803 45 43 -8  1  1                  231533MM-12.0 -7.4 -3.4 -2.0メジロマリア001347356                             1.3   8.2   1.900030304 -2 -21044610379466- 4113    880    150  500  40033331    '"
      ]
     },
     "execution_count": 65,
     "metadata": {},
     "output_type": "execute_result"
    }
   ],
   "source": [
    "lines.split(\"\\n\")[0].replace(\"\\u3000\",\" \")"
   ]
  },
  {
   "cell_type": "code",
   "execution_count": 25,
   "id": "8961d8a6",
   "metadata": {
    "ExecuteTime": {
     "end_time": "2021-06-01T13:17:52.913133Z",
     "start_time": "2021-06-01T13:17:52.896129Z"
    }
   },
   "outputs": [
    {
     "data": {
      "text/plain": [
       "'01082101'"
      ]
     },
     "execution_count": 25,
     "metadata": {},
     "output_type": "execute_result"
    }
   ],
   "source": [
    "lines.split(\"\\n\")[0][0:8] # レースキー"
   ]
  },
  {
   "cell_type": "code",
   "execution_count": 26,
   "id": "5fce8de8",
   "metadata": {
    "ExecuteTime": {
     "end_time": "2021-06-01T13:18:11.504059Z",
     "start_time": "2021-06-01T13:18:11.497058Z"
    }
   },
   "outputs": [
    {
     "data": {
      "text/plain": [
       "'01'"
      ]
     },
     "execution_count": 26,
     "metadata": {},
     "output_type": "execute_result"
    }
   ],
   "source": [
    "lines.split(\"\\n\")[0][0:2] # 場コード、01は札幌"
   ]
  },
  {
   "cell_type": "code",
   "execution_count": 27,
   "id": "edb62d88",
   "metadata": {
    "ExecuteTime": {
     "end_time": "2021-06-01T13:18:30.517959Z",
     "start_time": "2021-06-01T13:18:30.508957Z"
    }
   },
   "outputs": [
    {
     "data": {
      "text/plain": [
       "'08'"
      ]
     },
     "execution_count": 27,
     "metadata": {},
     "output_type": "execute_result"
    }
   ],
   "source": [
    "lines.split(\"\\n\")[0][2:4] # 年"
   ]
  },
  {
   "cell_type": "code",
   "execution_count": 28,
   "id": "395c28fe",
   "metadata": {
    "ExecuteTime": {
     "end_time": "2021-06-01T13:18:49.255058Z",
     "start_time": "2021-06-01T13:18:49.246056Z"
    }
   },
   "outputs": [
    {
     "data": {
      "text/plain": [
       "'2'"
      ]
     },
     "execution_count": 28,
     "metadata": {},
     "output_type": "execute_result"
    }
   ],
   "source": [
    "lines.split(\"\\n\")[0][4:5] # 回"
   ]
  },
  {
   "cell_type": "code",
   "execution_count": 29,
   "id": "42135e5d",
   "metadata": {
    "ExecuteTime": {
     "end_time": "2021-06-01T13:23:24.956106Z",
     "start_time": "2021-06-01T13:23:24.945104Z"
    }
   },
   "outputs": [
    {
     "data": {
      "text/plain": [
       "'1'"
      ]
     },
     "execution_count": 29,
     "metadata": {},
     "output_type": "execute_result"
    }
   ],
   "source": [
    "lines.split(\"\\n\")[0][5:6] # 日"
   ]
  },
  {
   "cell_type": "code",
   "execution_count": 30,
   "id": "e66b1471",
   "metadata": {
    "ExecuteTime": {
     "end_time": "2021-06-01T13:24:48.798987Z",
     "start_time": "2021-06-01T13:24:48.793987Z"
    }
   },
   "outputs": [
    {
     "data": {
      "text/plain": [
       "'01'"
      ]
     },
     "execution_count": 30,
     "metadata": {},
     "output_type": "execute_result"
    }
   ],
   "source": [
    "lines.split(\"\\n\")[0][6:8] # R"
   ]
  },
  {
   "cell_type": "code",
   "execution_count": 32,
   "id": "c9dcb36c",
   "metadata": {
    "ExecuteTime": {
     "end_time": "2021-06-01T13:25:29.746809Z",
     "start_time": "2021-06-01T13:25:29.732020Z"
    }
   },
   "outputs": [
    {
     "data": {
      "text/plain": [
       "'01'"
      ]
     },
     "execution_count": 32,
     "metadata": {},
     "output_type": "execute_result"
    }
   ],
   "source": [
    "lines.split(\"\\n\")[0][8:10] # 馬番"
   ]
  },
  {
   "cell_type": "code",
   "execution_count": 33,
   "id": "1b31dcd5",
   "metadata": {
    "ExecuteTime": {
     "end_time": "2021-06-01T13:25:41.863139Z",
     "start_time": "2021-06-01T13:25:41.857138Z"
    }
   },
   "outputs": [
    {
     "data": {
      "text/plain": [
       "'0610284320080913'"
      ]
     },
     "execution_count": 33,
     "metadata": {},
     "output_type": "execute_result"
    }
   ],
   "source": [
    "lines.split(\"\\n\")[0][10:26] # 競走成績キー"
   ]
  },
  {
   "cell_type": "code",
   "execution_count": 34,
   "id": "705c73b4",
   "metadata": {
    "ExecuteTime": {
     "end_time": "2021-06-01T13:26:12.498630Z",
     "start_time": "2021-06-01T13:26:12.481625Z"
    }
   },
   "outputs": [
    {
     "data": {
      "text/plain": [
       "'06102843'"
      ]
     },
     "execution_count": 34,
     "metadata": {},
     "output_type": "execute_result"
    }
   ],
   "source": [
    "lines.split(\"\\n\")[0][10:18] # 血統登録番号"
   ]
  },
  {
   "cell_type": "code",
   "execution_count": 35,
   "id": "ff3b331b",
   "metadata": {
    "ExecuteTime": {
     "end_time": "2021-06-01T13:29:40.966883Z",
     "start_time": "2021-06-01T13:29:40.954881Z"
    }
   },
   "outputs": [
    {
     "data": {
      "text/plain": [
       "'20080913'"
      ]
     },
     "execution_count": 35,
     "metadata": {},
     "output_type": "execute_result"
    }
   ],
   "source": [
    "lines.split(\"\\n\")[0][18:26] # 年月日"
   ]
  },
  {
   "cell_type": "code",
   "execution_count": 73,
   "id": "43293002",
   "metadata": {
    "ExecuteTime": {
     "end_time": "2021-06-01T14:21:44.435045Z",
     "start_time": "2021-06-01T14:21:44.424043Z"
    }
   },
   "outputs": [
    {
     "data": {
      "text/plain": [
       "'ヒカルジョディー\\u3000\\u3000\\u3000\\u3000\\u3000\\u3000\\u3000\\u3000\\u3000\\u3000'"
      ]
     },
     "execution_count": 73,
     "metadata": {},
     "output_type": "execute_result"
    }
   ],
   "source": [
    "lines.split(\"\\n\")[0][26:44] # 馬名、これ違う気がする"
   ]
  },
  {
   "cell_type": "code",
   "execution_count": 41,
   "id": "d303e036",
   "metadata": {
    "ExecuteTime": {
     "end_time": "2021-06-01T13:58:20.969867Z",
     "start_time": "2021-06-01T13:58:20.956864Z"
    }
   },
   "outputs": [
    {
     "data": {
      "text/plain": [
       "'1200'"
      ]
     },
     "execution_count": 41,
     "metadata": {},
     "output_type": "execute_result"
    }
   ],
   "source": [
    "lines.split(\"\\n\")[0][44:48] # 距離"
   ]
  },
  {
   "cell_type": "code",
   "execution_count": 42,
   "id": "e4df032d",
   "metadata": {
    "ExecuteTime": {
     "end_time": "2021-06-01T14:03:00.193024Z",
     "start_time": "2021-06-01T14:03:00.180021Z"
    }
   },
   "outputs": [
    {
     "data": {
      "text/plain": [
       "'1'"
      ]
     },
     "execution_count": 42,
     "metadata": {},
     "output_type": "execute_result"
    }
   ],
   "source": [
    "lines.split(\"\\n\")[0][48:49] # 芝ダ障害コード"
   ]
  },
  {
   "cell_type": "code",
   "execution_count": 43,
   "id": "89a5837c",
   "metadata": {
    "ExecuteTime": {
     "end_time": "2021-06-01T14:04:03.339801Z",
     "start_time": "2021-06-01T14:04:03.329800Z"
    }
   },
   "outputs": [
    {
     "data": {
      "text/plain": [
       "'1'"
      ]
     },
     "execution_count": 43,
     "metadata": {},
     "output_type": "execute_result"
    }
   ],
   "source": [
    "lines.split(\"\\n\")[0][49:50] # 右左"
   ]
  },
  {
   "cell_type": "code",
   "execution_count": 44,
   "id": "ad5c742b",
   "metadata": {
    "ExecuteTime": {
     "end_time": "2021-06-01T14:05:02.211432Z",
     "start_time": "2021-06-01T14:05:02.204430Z"
    }
   },
   "outputs": [
    {
     "data": {
      "text/plain": [
       "'1'"
      ]
     },
     "execution_count": 44,
     "metadata": {},
     "output_type": "execute_result"
    }
   ],
   "source": [
    "lines.split(\"\\n\")[0][50:51] # 内外"
   ]
  },
  {
   "cell_type": "code",
   "execution_count": 45,
   "id": "0ff04619",
   "metadata": {
    "ExecuteTime": {
     "end_time": "2021-06-01T14:05:56.240101Z",
     "start_time": "2021-06-01T14:05:56.229099Z"
    }
   },
   "outputs": [
    {
     "data": {
      "text/plain": [
       "'10'"
      ]
     },
     "execution_count": 45,
     "metadata": {},
     "output_type": "execute_result"
    }
   ],
   "source": [
    "lines.split(\"\\n\")[0][51:53] # 馬場状態"
   ]
  },
  {
   "cell_type": "code",
   "execution_count": 46,
   "id": "1653b382",
   "metadata": {
    "ExecuteTime": {
     "end_time": "2021-06-01T14:06:34.588855Z",
     "start_time": "2021-06-01T14:06:34.578852Z"
    }
   },
   "outputs": [
    {
     "data": {
      "text/plain": [
       "'11'"
      ]
     },
     "execution_count": 46,
     "metadata": {},
     "output_type": "execute_result"
    }
   ],
   "source": [
    "lines.split(\"\\n\")[0][53:55] # 種別"
   ]
  },
  {
   "cell_type": "code",
   "execution_count": 47,
   "id": "66c62acd",
   "metadata": {
    "ExecuteTime": {
     "end_time": "2021-06-01T14:07:10.320211Z",
     "start_time": "2021-06-01T14:07:10.316211Z"
    }
   },
   "outputs": [
    {
     "data": {
      "text/plain": [
       "'A3'"
      ]
     },
     "execution_count": 47,
     "metadata": {},
     "output_type": "execute_result"
    }
   ],
   "source": [
    "lines.split(\"\\n\")[0][55:57] # 条件"
   ]
  },
  {
   "cell_type": "code",
   "execution_count": 48,
   "id": "3a9b83eb",
   "metadata": {
    "ExecuteTime": {
     "end_time": "2021-06-01T14:07:40.619667Z",
     "start_time": "2021-06-01T14:07:40.603663Z"
    }
   },
   "outputs": [
    {
     "data": {
      "text/plain": [
       "'1'"
      ]
     },
     "execution_count": 48,
     "metadata": {},
     "output_type": "execute_result"
    }
   ],
   "source": [
    "lines.split(\"\\n\")[0][57:58] # 馬種類番号"
   ]
  },
  {
   "cell_type": "code",
   "execution_count": 49,
   "id": "aa00dd48",
   "metadata": {
    "ExecuteTime": {
     "end_time": "2021-06-01T14:09:28.836681Z",
     "start_time": "2021-06-01T14:09:28.827679Z"
    }
   },
   "outputs": [
    {
     "data": {
      "text/plain": [
       "'0'"
      ]
     },
     "execution_count": 49,
     "metadata": {},
     "output_type": "execute_result"
    }
   ],
   "source": [
    "lines.split(\"\\n\")[0][58:59] # 馬性別番号"
   ]
  },
  {
   "cell_type": "code",
   "execution_count": 50,
   "id": "54ab743c",
   "metadata": {
    "ExecuteTime": {
     "end_time": "2021-06-01T14:10:17.998822Z",
     "start_time": "2021-06-01T14:10:17.989820Z"
    }
   },
   "outputs": [
    {
     "data": {
      "text/plain": [
       "'2'"
      ]
     },
     "execution_count": 50,
     "metadata": {},
     "output_type": "execute_result"
    }
   ],
   "source": [
    "lines.split(\"\\n\")[0][59:60] # 国際競走記号"
   ]
  },
  {
   "cell_type": "code",
   "execution_count": 51,
   "id": "648027e1",
   "metadata": {
    "ExecuteTime": {
     "end_time": "2021-06-01T14:11:36.011891Z",
     "start_time": "2021-06-01T14:11:36.001889Z"
    }
   },
   "outputs": [
    {
     "data": {
      "text/plain": [
       "'3'"
      ]
     },
     "execution_count": 51,
     "metadata": {},
     "output_type": "execute_result"
    }
   ],
   "source": [
    "lines.split(\"\\n\")[0][60:61] # 重量"
   ]
  },
  {
   "cell_type": "code",
   "execution_count": 62,
   "id": "c769fea4",
   "metadata": {
    "ExecuteTime": {
     "end_time": "2021-06-01T14:15:18.375270Z",
     "start_time": "2021-06-01T14:15:18.362761Z"
    }
   },
   "outputs": [
    {
     "data": {
      "text/plain": [
       "' '"
      ]
     },
     "execution_count": 62,
     "metadata": {},
     "output_type": "execute_result"
    }
   ],
   "source": [
    "lines.split(\"\\n\")[0][61:62] # グレード"
   ]
  },
  {
   "cell_type": "code",
   "execution_count": 72,
   "id": "5822c08e",
   "metadata": {
    "ExecuteTime": {
     "end_time": "2021-06-01T14:21:09.282753Z",
     "start_time": "2021-06-01T14:21:09.272749Z"
    }
   },
   "outputs": [
    {
     "data": {
      "text/plain": [
       "'\\u3000\\u3000\\u3000\\u3000\\u3000\\u3000\\u3000\\u3000\\u3000\\u3000\\u3000\\u3000\\u3000\\u3000\\u3000\\u3000\\u3000\\u3000\\u3000\\u3000\\u3000\\u3000\\u3000\\u3000\\u3000'"
      ]
     },
     "execution_count": 72,
     "metadata": {},
     "output_type": "execute_result"
    }
   ],
   "source": [
    "lines.split(\"\\n\")[0][62:87] # レース名"
   ]
  },
  {
   "cell_type": "code",
   "execution_count": 71,
   "id": "466c5723",
   "metadata": {
    "ExecuteTime": {
     "end_time": "2021-06-01T14:20:44.843050Z",
     "start_time": "2021-06-01T14:20:44.836048Z"
    }
   },
   "outputs": [
    {
     "data": {
      "text/plain": [
       "'08'"
      ]
     },
     "execution_count": 71,
     "metadata": {},
     "output_type": "execute_result"
    }
   ],
   "source": [
    "lines.split(\"\\n\")[0][87:89] # 頭数"
   ]
  },
  {
   "cell_type": "code",
   "execution_count": null,
   "id": "f5b93a1c",
   "metadata": {},
   "outputs": [],
   "source": [
    "lines.split(\"\\n\")[0][87:89] # 頭数"
   ]
  },
  {
   "cell_type": "code",
   "execution_count": 76,
   "id": "ef0ee260",
   "metadata": {
    "ExecuteTime": {
     "end_time": "2021-06-01T14:23:08.853780Z",
     "start_time": "2021-06-01T14:23:08.835778Z"
    }
   },
   "outputs": [
    {
     "data": {
      "text/plain": [
       "'\\u3000\\u3000\\u3000\\u3000'"
      ]
     },
     "execution_count": 76,
     "metadata": {},
     "output_type": "execute_result"
    }
   ],
   "source": [
    "lines.split(\"\\n\")[0][89:93] # レース名略称"
   ]
  },
  {
   "cell_type": "code",
   "execution_count": 77,
   "id": "2545593b",
   "metadata": {
    "ExecuteTime": {
     "end_time": "2021-06-01T14:23:24.550206Z",
     "start_time": "2021-06-01T14:23:24.536202Z"
    }
   },
   "outputs": [
    {
     "data": {
      "text/plain": [
       "'01'"
      ]
     },
     "execution_count": 77,
     "metadata": {},
     "output_type": "execute_result"
    }
   ],
   "source": [
    "lines.split(\"\\n\")[0][93:95] # 着順"
   ]
  },
  {
   "cell_type": "code",
   "execution_count": 79,
   "id": "9a83ffc7",
   "metadata": {
    "ExecuteTime": {
     "end_time": "2021-06-01T14:23:49.931024Z",
     "start_time": "2021-06-01T14:23:49.924025Z"
    }
   },
   "outputs": [
    {
     "data": {
      "text/plain": [
       "'0'"
      ]
     },
     "execution_count": 79,
     "metadata": {},
     "output_type": "execute_result"
    }
   ],
   "source": [
    "lines.split(\"\\n\")[0][95:96] # 異常区分"
   ]
  },
  {
   "cell_type": "code",
   "execution_count": 80,
   "id": "c3afea5c",
   "metadata": {
    "ExecuteTime": {
     "end_time": "2021-06-01T14:24:18.852685Z",
     "start_time": "2021-06-01T14:24:18.834681Z"
    }
   },
   "outputs": [
    {
     "data": {
      "text/plain": [
       "'1103'"
      ]
     },
     "execution_count": 80,
     "metadata": {},
     "output_type": "execute_result"
    }
   ],
   "source": [
    "lines.split(\"\\n\")[0][96:100] # タイム、1分10秒3"
   ]
  },
  {
   "cell_type": "code",
   "execution_count": 81,
   "id": "2500ebe3",
   "metadata": {
    "ExecuteTime": {
     "end_time": "2021-06-01T14:25:02.927034Z",
     "start_time": "2021-06-01T14:25:02.910029Z"
    }
   },
   "outputs": [
    {
     "data": {
      "text/plain": [
       "'540'"
      ]
     },
     "execution_count": 81,
     "metadata": {},
     "output_type": "execute_result"
    }
   ],
   "source": [
    "lines.split(\"\\n\")[0][100:103] # 斤量"
   ]
  },
  {
   "cell_type": "code",
   "execution_count": 82,
   "id": "842eaca9",
   "metadata": {
    "ExecuteTime": {
     "end_time": "2021-06-01T14:26:12.944651Z",
     "start_time": "2021-06-01T14:26:12.933645Z"
    }
   },
   "outputs": [
    {
     "data": {
      "text/plain": [
       "'秋山真一郎\\u3000'"
      ]
     },
     "execution_count": 82,
     "metadata": {},
     "output_type": "execute_result"
    }
   ],
   "source": [
    "lines.split(\"\\n\")[0][103:109] # 騎手名"
   ]
  },
  {
   "cell_type": "code",
   "execution_count": 83,
   "id": "e82d80e8",
   "metadata": {
    "ExecuteTime": {
     "end_time": "2021-06-01T14:26:31.750906Z",
     "start_time": "2021-06-01T14:26:31.746905Z"
    }
   },
   "outputs": [
    {
     "data": {
      "text/plain": [
       "'中尾秀正\\u3000\\u3000'"
      ]
     },
     "execution_count": 83,
     "metadata": {},
     "output_type": "execute_result"
    }
   ],
   "source": [
    "lines.split(\"\\n\")[0][109:115] # 調教師名"
   ]
  },
  {
   "cell_type": "code",
   "execution_count": 84,
   "id": "99b4aeaa",
   "metadata": {
    "ExecuteTime": {
     "end_time": "2021-06-01T14:26:53.177630Z",
     "start_time": "2021-06-01T14:26:53.171627Z"
    }
   },
   "outputs": [
    {
     "data": {
      "text/plain": [
       "'   8.8'"
      ]
     },
     "execution_count": 84,
     "metadata": {},
     "output_type": "execute_result"
    }
   ],
   "source": [
    "lines.split(\"\\n\")[0][115:121] # 確定単勝オッズ"
   ]
  },
  {
   "cell_type": "code",
   "execution_count": 85,
   "id": "550f7b82",
   "metadata": {
    "ExecuteTime": {
     "end_time": "2021-06-01T14:27:21.351804Z",
     "start_time": "2021-06-01T14:27:21.334800Z"
    }
   },
   "outputs": [
    {
     "data": {
      "text/plain": [
       "'03'"
      ]
     },
     "execution_count": 85,
     "metadata": {},
     "output_type": "execute_result"
    }
   ],
   "source": [
    "lines.split(\"\\n\")[0][121:123] # 確定単勝人気順位"
   ]
  },
  {
   "cell_type": "code",
   "execution_count": 86,
   "id": "521b0ad9",
   "metadata": {
    "ExecuteTime": {
     "end_time": "2021-06-01T14:27:44.195541Z",
     "start_time": "2021-06-01T14:27:44.184033Z"
    }
   },
   "outputs": [
    {
     "data": {
      "text/plain": [
       "' 45'"
      ]
     },
     "execution_count": 86,
     "metadata": {},
     "output_type": "execute_result"
    }
   ],
   "source": [
    "lines.split(\"\\n\")[0][123:126] # IDM、これ分からん"
   ]
  },
  {
   "cell_type": "code",
   "execution_count": 87,
   "id": "9d92b1b9",
   "metadata": {
    "ExecuteTime": {
     "end_time": "2021-06-01T14:29:31.714594Z",
     "start_time": "2021-06-01T14:29:31.707593Z"
    }
   },
   "outputs": [
    {
     "data": {
      "text/plain": [
       "' 43'"
      ]
     },
     "execution_count": 87,
     "metadata": {},
     "output_type": "execute_result"
    }
   ],
   "source": [
    "lines.split(\"\\n\")[0][126:129] # 素点、分からん"
   ]
  },
  {
   "cell_type": "code",
   "execution_count": 88,
   "id": "075754c0",
   "metadata": {
    "ExecuteTime": {
     "end_time": "2021-06-01T14:30:08.269028Z",
     "start_time": "2021-06-01T14:30:08.258027Z"
    }
   },
   "outputs": [
    {
     "data": {
      "text/plain": [
       "' -8'"
      ]
     },
     "execution_count": 88,
     "metadata": {},
     "output_type": "execute_result"
    }
   ],
   "source": [
    "lines.split(\"\\n\")[0][129:132] # 馬場差、分からん"
   ]
  },
  {
   "cell_type": "code",
   "execution_count": 89,
   "id": "902b4e95",
   "metadata": {
    "ExecuteTime": {
     "end_time": "2021-06-01T14:30:45.238405Z",
     "start_time": "2021-06-01T14:30:45.220402Z"
    }
   },
   "outputs": [
    {
     "data": {
      "text/plain": [
       "'  1'"
      ]
     },
     "execution_count": 89,
     "metadata": {},
     "output_type": "execute_result"
    }
   ],
   "source": [
    "lines.split(\"\\n\")[0][132:135] # ペース、分からん"
   ]
  },
  {
   "cell_type": "code",
   "execution_count": 90,
   "id": "270486a8",
   "metadata": {
    "ExecuteTime": {
     "end_time": "2021-06-01T14:31:16.788609Z",
     "start_time": "2021-06-01T14:31:16.769604Z"
    }
   },
   "outputs": [
    {
     "data": {
      "text/plain": [
       "'  1'"
      ]
     },
     "execution_count": 90,
     "metadata": {},
     "output_type": "execute_result"
    }
   ],
   "source": [
    "lines.split(\"\\n\")[0][135:138] # 出遅れ、分からん"
   ]
  },
  {
   "cell_type": "code",
   "execution_count": 91,
   "id": "f1df6a7e",
   "metadata": {
    "ExecuteTime": {
     "end_time": "2021-06-01T14:31:46.461999Z",
     "start_time": "2021-06-01T14:31:46.456998Z"
    }
   },
   "outputs": [
    {
     "data": {
      "text/plain": [
       "'   '"
      ]
     },
     "execution_count": 91,
     "metadata": {},
     "output_type": "execute_result"
    }
   ],
   "source": [
    "lines.split(\"\\n\")[0][138:141] # 位置取り、分からん"
   ]
  },
  {
   "cell_type": "code",
   "execution_count": null,
   "id": "dff38b72",
   "metadata": {},
   "outputs": [],
   "source": []
  }
 ],
 "metadata": {
  "kernelspec": {
   "display_name": "Python 3",
   "language": "python",
   "name": "python3"
  },
  "language_info": {
   "codemirror_mode": {
    "name": "ipython",
    "version": 3
   },
   "file_extension": ".py",
   "mimetype": "text/x-python",
   "name": "python",
   "nbconvert_exporter": "python",
   "pygments_lexer": "ipython3",
   "version": "3.9.5"
  },
  "toc": {
   "base_numbering": 1,
   "nav_menu": {},
   "number_sections": true,
   "sideBar": true,
   "skip_h1_title": false,
   "title_cell": "Table of Contents",
   "title_sidebar": "Contents",
   "toc_cell": false,
   "toc_position": {},
   "toc_section_display": true,
   "toc_window_display": false
  }
 },
 "nbformat": 4,
 "nbformat_minor": 5
}
