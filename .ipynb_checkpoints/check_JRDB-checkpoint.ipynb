{
 "cells": [
  {
   "cell_type": "markdown",
   "id": "5b4c81e1",
   "metadata": {},
   "source": [
    "JRDBデータを読み込んでみます。  \n",
    "特に、http://www.jrdb.com/program/Sed/SED080913.txt のJRDB成績データ（SED）のサンプルデータを読んでみます。  \n",
    "https://github-dotcom.gateway.web.tr/absoishi/jrdb/blob/master/jrdb/config/SED.json を参考にしています。\n",
    "\n",
    "「ＪＲＤＢデータのご案内」, http://www.jrdb.com/program/data.html  \n",
    "\n",
    "文字列の区切りのjsonファイルは下を参考にしています。  \n",
    "https://github-dotcom.gateway.web.tr/absoishi/jrdb/blob/master/jrdb/config/SED.json"
   ]
  },
  {
   "cell_type": "code",
   "execution_count": 8,
   "id": "b2f85228",
   "metadata": {
    "ExecuteTime": {
     "end_time": "2021-06-02T14:22:21.418656Z",
     "start_time": "2021-06-02T14:22:21.189374Z"
    }
   },
   "outputs": [],
   "source": [
    "import pandas as pd"
   ]
  },
  {
   "cell_type": "code",
   "execution_count": 30,
   "id": "cad9714e",
   "metadata": {
    "ExecuteTime": {
     "end_time": "2021-06-02T14:32:41.476141Z",
     "start_time": "2021-06-02T14:32:41.471140Z"
    }
   },
   "outputs": [],
   "source": [
    "fname_sample = \"./jrdb_sed_sample.txt\" # SEDのサンプルファイル\n",
    "\n",
    "with open(fname_sample,\"r\") as f:\n",
    "#     lines = f.readlines()\n",
    "    lines = f.readlines() # 1行を各要素としたリストに格納する\n",
    "\n",
    "lines = pd.Series(lines) # pd.Seriesにすると扱いが楽になる"
   ]
  },
  {
   "cell_type": "code",
   "execution_count": 351,
   "id": "85d80c4c",
   "metadata": {
    "ExecuteTime": {
     "end_time": "2021-06-03T12:28:00.884644Z",
     "start_time": "2021-06-03T12:28:00.868639Z"
    }
   },
   "outputs": [
    {
     "data": {
      "text/plain": [
       "'01082101010610284320080913ヒカルジョディー\\u3000\\u3000\\u3000\\u3000\\u3000\\u3000\\u3000\\u3000\\u3000\\u300012001111011A31023 \\u3000\\u3000\\u3000\\u3000\\u3000\\u3000\\u3000\\u3000\\u3000\\u3000\\u3000\\u3000\\u3000\\u3000\\u3000\\u3000\\u3000\\u3000\\u3000\\u3000\\u3000\\u3000\\u3000\\u3000\\u300008\\u3000\\u3000\\u3000\\u30000101103540秋山真一郎\\u3000中尾秀正\\u3000\\u3000   8.803 45 43 -8  1  1                  231533MM-12.0 -7.4 -3.4 -2.0メジロマリア001347356                             1.3   8.2   1.900030304 -2 -21044610379466- 4113    880    150  500  40033331    \\n'"
      ]
     },
     "execution_count": 351,
     "metadata": {},
     "output_type": "execute_result"
    }
   ],
   "source": [
    "lines[0]"
   ]
  },
  {
   "cell_type": "code",
   "execution_count": null,
   "id": "8f1df9e4",
   "metadata": {},
   "outputs": [],
   "source": []
  },
  {
   "cell_type": "code",
   "execution_count": null,
   "id": "6b86a679",
   "metadata": {},
   "outputs": [],
   "source": []
  },
  {
   "cell_type": "code",
   "execution_count": null,
   "id": "9bcf4cac",
   "metadata": {
    "ExecuteTime": {
     "end_time": "2021-06-03T14:45:55.584853Z",
     "start_time": "2021-06-03T14:45:55.571850Z"
    }
   },
   "outputs": [],
   "source": [
    "# 文字列中からどこ（インデックス）が項目なのかを表す\n",
    "# [始まりのインデックス,終わりのインデックス+1]\n",
    "# そのまま[start:end]に突っ込めるように、終わりのインデックス+1としている\n",
    "dict_columns_index = {\n",
    "    \"場コード\":[0,2], # 01（札幌競馬場）か06（中山競馬場）\n",
    "    \"年\":[2,4], # 08のみ、西暦の下2桁\n",
    "    \"回\":[4,5], # 2,4のみ、1回=1月（ひとつき）、シーズン最初が1回でそれ以降2回、3回、...\n",
    "    \"日\":[5,6], # 1のみ、該当する回のうちの何日目か、1-8が一般的\n",
    "    \"R\":[6,8], # 01-12、通常は1日1競馬場で12レース行われる\n",
    "    \"馬番\":[8,10], # 01-16、ルール上は16頭まで同時に出走可能\n",
    "    # （旧方式、本データセット）8桁、上2桁が生年の西暦下2桁、競馬情報ツールJRA-VANが採用している\n",
    "    # （新方式）10桁、上4桁が西暦4桁を表す\n",
    "    \"血統登録番号\":[10,18], \n",
    "    \"年月日\":[18,26], # レース開催年月日、YYYYMMDD、20080913のみ\n",
    "    \"馬名\":[26,44], # 長さ1-9、ルール上最長で9文字\n",
    "    \n",
    "    \"距離\":[44,48], # レースの距離(m)、1000-2880\n",
    "    \"芝ダ障害コード\":[48,49], # 1:芝, 2:ダート,3:障害\n",
    "    \"右左\":[49,50], # 1,9のみ、1:右周り、2:左周り、3:直線のみ、9:他\n",
    "    \"内外\":[50,51], # 1-3、1:通常（内回り）、2:外回り、3:直線ダート、9:他\n",
    "    \"馬場状態\":[51,53], # 10,11のみ、10-42の12カテゴリ\n",
    "    \"種別\":[53,55], # 11,12,13,20のみ、11,12,13,14,20,99、3歳限定か4歳以上か障害かなどレースの概要\n",
    "    \"条件\":[55,57], # 10,A3,A1,05,OPのみ、11カテゴリ、レースにおける出走できる馬の勝利数条件\n",
    "    \"馬種類記号\":[57,58], # 0,1のみ、0-5、レースにおける出走できる馬の生まれ（国産馬限定など）\n",
    "    \"馬性別記号\":[58,59], # 0,2のみ、0-4、レースにおける出走できる馬の性別（牡馬限定、牝馬限定など）\n",
    "    \"交流競走記号\":[59,60], # 0-3、レースにおける騎手の条件（地方競馬所属の騎手限定みたいな）\n",
    "    \"重量\":[60,61], # 1-4、馬の成長度の差をなくすためや、勝利数の少ない馬を有利にするためのハンデの方法\n",
    "    \"グレード\":[61,62], # 空,5,3、レースのグレード1-5（G1、G2、G3、重賞、特別）、それ以外は空\n",
    "    # コスモス賞、エルムステークス、白井特別など\n",
    "    # \"グレード\"が空でない場合のみレース名は空ではない、\"グレード\"が空である場合レース名は空\n",
    "    \"レース名\":[62,87], \n",
    "    \"頭数\":[87,89], # 08-14、ルール上は16頭まで同時に出走可能\n",
    "    \"レース名略称\":[89,93], # コスモス,ライラッ,エルムＳ、レース名が空でない場合のみ、レース名の略称4文字\n",
    "    \"着順\":[93,95], # 要確認、00-16、サンプルでは頭数が最大14なのに16まである\n",
    "    \"異常区分\":[95,96], # 0,2,3のみ、0-6、除外や失格など\n",
    "    \"タイム\":[96,100], # 1103の場合1分10秒3\n",
    "    \"斤量\":[100,103], # 馬が背負う重量、騎手の体重+装備品の重量+α、競走馬の勝利数などによるハンデなどで変動    \n",
    "    \"騎手名\":[103,109], # 騎手の名前6文字まで\n",
    "    \"調教師名\":[109,115], # 調教師の名前6文字まで\n",
    "    \"確定単勝オッズ\":[115,121], # 4桁.1桁\n",
    "    \"確定単勝人気順位\":[121,123], # 0埋め2桁、00-16\n",
    "    \n",
    "    \n",
    "    \n",
    "    \n",
    "    \"IDM\":[123,126], # 要確認、0個目のサンプルでは4とあるが、実際のレースでは3\n",
    "    \"素点\":[126,129], # 要確認、まじでわからん\n",
    "    \"馬場差\":[129,132], # 要確認、まじでわからん\n",
    "    \"ペース\":[132,135], # 要確認、まじでわからん\n",
    "    \"出遅\":[135,138], # 要確認、まじでわからん\n",
    "    \"位置取\":[138,141], # 要確認、まじでわからん\n",
    "    \"不利\":[141,144], # 要確認、まじでわからん\n",
    "    \"前不利\":[144,147], # 要確認、まじでわからん\n",
    "    \"中不利\":[147,150], # 要確認、まじでわからん\n",
    "    \"後不利\":[150,153], # 要確認、まじでわからん    \n",
    "    \"レース\":[153,156], # 要確認、空,1,2のみ、まじでまじでわからん\n",
    "    \n",
    "    \"コース取り\":[156,157], # 空,1-5のみ\n",
    "    \"上昇度コード\":[157,158], # 3,5のみ\n",
    "    \"クラスコード\":[158,160], # 04-31\n",
    "    \"馬体コード\":[160,161], # 1,2,3,4,7\n",
    "    \"気配コード\":[161,162], # 2,3,4,7\n",
    "    \"レースペース\":[162,163], # 空,H:ハイ,M:平均,S:スロー、レース全体のペース\n",
    "    \"馬ペース\":[163,164], # 馬のペース\n",
    "    \"テン指数\":[164,169], # テン指数（最初の3ハロンの速さ指数）\n",
    "    \"上がり指数\":[169,174], # 上がり指数（最後の3ハロンの速さ指数）\n",
    "    \"ペース指数\":[174,179], # ペース指数（最後の3ハロン前での速さ指数）\n",
    "    \"レースペース指数\":[179,184], # レースペース指数（そのレースの先頭の馬のペース指数）    \n",
    "    \"1(2)着馬名\":[184,190], # 該当するレースでの1位もしくは2位の馬の名前6文字\n",
    "    \n",
    "    # 要確認、該当する馬が1着の場合2着とのタイム差、該当する馬が2着以降の場合1着とのタイム差？、0.1秒単位\n",
    "    \"1(2)着タイム差\":[190,193], \n",
    "    \"前3Fタイム\":[193,196], # 要確認、0.1秒単位\n",
    "    \"後3Fタイム\":[196,199], # 要確認、0.1秒単位\n",
    "    \n",
    "    \"備考\":[199,223], # 要確認、空、全角12文字（地方競馬場名等）\n",
    "    \"予備\",[223,225], # 要確認、空\n",
    "    \n",
    "    \"確定複勝オッズ下\",[225,231], # 複勝オッズの下限とあるけど実際のものと違う\n",
    "    \"10時単勝オッズ\",[231,237], # 10時時点（その日の第1R開始前）での単勝オッズ？\n",
    "    \"10時複勝オッズ\",[237,243], # 10時時点（その日の第1R開始前）での複勝オッズ？\n",
    "    \n",
    "    \"コーナー順位1\":[243,245]: # 00-16\n",
    "    \"コーナー順位2\":[245,247]: # 00-16\n",
    "    \"コーナー順位3\":[247,249]: # 00-16\n",
    "    \"コーナー順位4\":[249,251]: # 00-16\n",
    "    \n",
    "    \"前3F先頭差\":[251,254]: # 最初の3F時点での先頭とのタイム差（0.1秒単位）、なぜ負の値を取る？\n",
    "    \"後3F先頭差\":[254,257]: # 最後の3F時点での先頭とのタイム差（0.1秒単位）、なぜ負の値を取る？\n",
    "\n",
    "    \"騎手コード\":[257,262]: # 騎手コードらしいが、調べても出てこない\n",
    "    \"調教師コード\":[262,267]: # 調教師コードらしいが、調べても出てこない\n",
    "    \n",
    "    \"馬体重\":[267,270], # 416-568\n",
    "    \"馬体重増減\":[270,273], # -14~+40\n",
    "    \"天候コード\":[273,274], # 1のみ、1-6の6カテゴリ\n",
    "    \n",
    "    \"コース\":[274,275], # 1,4のみ、1-6の6カテゴリ、それぞれ競馬場のどのコースかを表す\n",
    "    \"レース脚質\":[275,276], # 空,1-4のみ、1-6の6カテゴリ、逃げや差しなど\n",
    "    \n",
    "    \"払い戻し（単勝）\":[276,283], # 空,160-6850、100円馬券の払い戻し金（円）\n",
    "    \"払い戻し（複勝）\":[283,290], # 空,110-3200、100円馬券の払い戻し金（円）\n",
    "    \"本賞金\":[290,295], # 0-3900、獲得した賞金（万円）\n",
    "    \"収得賞金\":[295,300], # 0-1950、レースの種類で決まっている獲得賞金（万円）\n",
    "    \n",
    "    \"レースペース流れ\":[300,302], # 空,21-33、[1-3]{2}の形式\n",
    "    \"馬ペース流れ\":[302,304], # 空,11-33、レースペース流れと同じ形式\n",
    "    \"4角コース取り\":[304,305] # 空,1-5、1-5の5カテゴリ、多分第4コーナーを回ったときのコース取り    \n",
    "}"
   ]
  },
  {
   "cell_type": "code",
   "execution_count": 508,
   "id": "a785c5d6",
   "metadata": {
    "ExecuteTime": {
     "end_time": "2021-06-09T11:31:18.017747Z",
     "start_time": "2021-06-09T11:31:18.000743Z"
    }
   },
   "outputs": [
    {
     "name": "stdout",
     "output_type": "stream",
     "text": [
      "0          \n",
      "1          \n",
      "2          \n",
      "3          \n",
      "4          \n",
      "       ... \n",
      "319        \n",
      "320        \n",
      "321        \n",
      "322        \n",
      "323        \n",
      "Length: 324, dtype: object\n",
      "['    ']\n"
     ]
    }
   ],
   "source": [
    "i=[305,-1]\n",
    "\n",
    "print(lines.str[i[0]:i[1]])\n",
    "print(lines.str[i[0]:i[1]].unique())\n",
    "\n",
    "# .unique()"
   ]
  },
  {
   "cell_type": "code",
   "execution_count": 168,
   "id": "627c2e2b",
   "metadata": {
    "ExecuteTime": {
     "end_time": "2021-06-03T11:08:32.412760Z",
     "start_time": "2021-06-03T11:08:32.394757Z"
    }
   },
   "outputs": [
    {
     "data": {
      "text/plain": [
       "array([' ', '-'], dtype=object)"
      ]
     },
     "execution_count": 168,
     "metadata": {},
     "output_type": "execute_result"
    }
   ],
   "source": [
    "lines.str[126].unique()"
   ]
  },
  {
   "cell_type": "code",
   "execution_count": 163,
   "id": "cc5af918",
   "metadata": {
    "ExecuteTime": {
     "end_time": "2021-06-03T11:07:01.739887Z",
     "start_time": "2021-06-03T11:07:01.732884Z"
    }
   },
   "outputs": [
    {
     "data": {
      "text/plain": [
       "array([' ', '-'], dtype=object)"
      ]
     },
     "execution_count": 163,
     "metadata": {},
     "output_type": "execute_result"
    }
   ],
   "source": [
    "lines.str[126].unique()"
   ]
  },
  {
   "cell_type": "code",
   "execution_count": 122,
   "id": "87b3c7f5",
   "metadata": {
    "ExecuteTime": {
     "end_time": "2021-06-03T10:59:31.306334Z",
     "start_time": "2021-06-03T10:59:31.298333Z"
    }
   },
   "outputs": [
    {
     "data": {
      "text/plain": [
       "0      秋山真一郎　\n",
       "1      横山典弘　　\n",
       "2      梶晃啓　　　\n",
       "3      岩田康誠　　\n",
       "4      藤田伸二　　\n",
       "        ...  \n",
       "319    川田将雅　　\n",
       "320    戸崎圭太　　\n",
       "321    千葉直人　　\n",
       "322    後藤浩輝　　\n",
       "323    武士沢友治　\n",
       "Length: 324, dtype: object"
      ]
     },
     "execution_count": 122,
     "metadata": {},
     "output_type": "execute_result"
    }
   ],
   "source": [
    "lines.str[103:109]"
   ]
  },
  {
   "cell_type": "code",
   "execution_count": 509,
   "id": "885f5a39",
   "metadata": {
    "ExecuteTime": {
     "end_time": "2021-06-09T12:23:03.580205Z",
     "start_time": "2021-06-09T12:23:03.509204Z"
    }
   },
   "outputs": [
    {
     "name": "stdout",
     "output_type": "stream",
     "text": [
      " ドライブ C のボリューム ラベルは Windows です\n",
      " ボリューム シリアル番号は 0AB8-6FD3 です\n",
      "\n",
      " C:\\Users\\kagaw\\Documents\\github\\share のディレクトリ\n",
      "\n",
      "2021/06/09  20:31    <DIR>          .\n",
      "2021/06/09  20:31    <DIR>          ..\n",
      "2021/06/01  23:38    <DIR>          .ipynb_checkpoints\n",
      "2021/02/26  21:08                36 cal.py\n",
      "2021/06/09  20:31            91,420 check_JRDB.ipynb\n",
      "2021/06/01  21:28           121,824 jrdb_sed_sample.txt\n",
      "2021/02/26  21:08               556 main.py\n",
      "2021/02/26  21:08                39 n_th_power.py\n",
      "2021/02/26  21:08               123 README.md\n",
      "2021/06/02  23:31            17,126 SED_absoishi.json\n",
      "2021/02/26  21:08                33 square.py\n",
      "2021/06/03  22:04            18,615 馬場状態.png\n",
      "               9 個のファイル             249,772 バイト\n",
      "               3 個のディレクトリ  629,698,383,872 バイトの空き領域\n"
     ]
    }
   ],
   "source": [
    "for y in range(1999,2021):\n",
    "    \n",
    "\n",
    "!dir C:/Users/kagaw/Downloads/"
   ]
  },
  {
   "cell_type": "code",
   "execution_count": null,
   "id": "a226fb4c",
   "metadata": {},
   "outputs": [],
   "source": []
  },
  {
   "cell_type": "code",
   "execution_count": null,
   "id": "a35bbb96",
   "metadata": {},
   "outputs": [],
   "source": []
  },
  {
   "cell_type": "code",
   "execution_count": 29,
   "id": "373318a5",
   "metadata": {
    "ExecuteTime": {
     "end_time": "2021-06-02T14:31:38.761592Z",
     "start_time": "2021-06-02T14:31:38.748590Z"
    }
   },
   "outputs": [],
   "source": [
    "import json"
   ]
  },
  {
   "cell_type": "code",
   "execution_count": null,
   "id": "519e7586",
   "metadata": {},
   "outputs": [],
   "source": [
    "json.loads()"
   ]
  },
  {
   "cell_type": "code",
   "execution_count": null,
   "id": "53ad795c",
   "metadata": {},
   "outputs": [],
   "source": []
  },
  {
   "cell_type": "code",
   "execution_count": 46,
   "id": "50b5d25d",
   "metadata": {
    "ExecuteTime": {
     "end_time": "2021-06-02T14:40:11.131381Z",
     "start_time": "2021-06-02T14:40:11.119575Z"
    },
    "scrolled": true
   },
   "outputs": [
    {
     "name": "stdout",
     "output_type": "stream",
     "text": [
      "race_key\n",
      "0 8\n",
      "race_course_code\n",
      "0 2\n",
      "year\n",
      "2 4\n",
      "times\n",
      "4 5\n",
      "day\n",
      "5 6\n",
      "race\n",
      "6 8\n",
      "horse_number\n",
      "8 10\n",
      "race_result_key\n",
      "10 26\n",
      "pedigree_registration_number\n",
      "10 18\n",
      "yyyymmdd\n",
      "18 26\n",
      "horse_name\n",
      "26 62\n",
      "distance\n",
      "62 66\n",
      "turf_dirt_code\n",
      "66 67\n",
      "right_left_code\n",
      "67 68\n",
      "inner_outer_code\n",
      "68 69\n",
      "course_condition_code\n",
      "69 71\n",
      "race_type_code\n",
      "71 73\n",
      "race_condition_code\n",
      "73 75\n",
      "race_symbol_horse_group_code\n",
      "75 76\n",
      "race_symbol_horse_sex_code\n",
      "76 77\n",
      "race_symbol_interleague_code\n",
      "77 78\n",
      "weight_handicap_code\n",
      "78 79\n",
      "grade_code\n",
      "79 80\n",
      "race_name\n",
      "80 130\n",
      "horse_count\n",
      "130 132\n",
      "race_name_short\n",
      "132 140\n",
      "orders\n",
      "140 142\n",
      "accident_type_code\n",
      "142 143\n",
      "race_time\n",
      "143 147\n",
      "basis_weight\n",
      "147 150\n",
      "jockey_name\n",
      "150 162\n",
      "trainer_name\n",
      "162 174\n",
      "win_odds\n",
      "174 180\n",
      "win_popularity_rank\n",
      "180 182\n",
      "idm\n",
      "182 185\n",
      "raw_score\n",
      "185 188\n",
      "ground_difference_score\n",
      "188 191\n",
      "pace_score\n",
      "191 194\n",
      "late_score\n",
      "194 197\n",
      "positioning_score\n",
      "197 200\n",
      "unfavorable_score\n",
      "200 203\n",
      "early_unfavorable_score\n",
      "203 206\n",
      "mid_unfavorable_score\n",
      "206 209\n",
      "last_unfavorable_score\n",
      "209 212\n",
      "race_score\n",
      "212 215\n",
      "positioning_code\n",
      "215 216\n",
      "rising_tone_code\n",
      "216 217\n",
      "class_code\n",
      "217 219\n",
      "horse_body_code\n",
      "219 220\n",
      "horse_sign_code\n",
      "220 221\n",
      "race_pace\n",
      "221 222\n",
      "horse_pace\n",
      "222 223\n",
      "early_index\n",
      "223 228\n",
      "last_index\n",
      "228 233\n",
      "pace_index\n",
      "233 238\n",
      "race_pace_index\n",
      "238 243\n",
      "horse_name_1st_2nd\n",
      "243 255\n",
      "time_difference_1st_2nd\n",
      "255 258\n",
      "early3f_time\n",
      "258 261\n",
      "last3f_time\n",
      "261 264\n",
      "memo\n",
      "264 288\n",
      "place_odds\n",
      "290 296\n",
      "win_odds_10\n",
      "296 302\n",
      "place_odds_10\n",
      "302 308\n",
      "corner_rank1\n",
      "308 310\n",
      "corner_rank2\n",
      "310 312\n",
      "corner_rank3\n",
      "312 314\n",
      "corner_rank4\n",
      "314 316\n",
      "early3f_top_difference\n",
      "316 319\n",
      "last3f_top_difference\n",
      "319 322\n",
      "jockey_code\n",
      "322 327\n",
      "trainer_code\n",
      "327 332\n",
      "horse_weight\n",
      "332 335\n",
      "horse_weight_change\n",
      "335 338\n",
      "weather_code\n",
      "338 339\n",
      "course_code\n",
      "339 340\n",
      "running_type_code\n",
      "340 341\n",
      "win_dividend\n",
      "341 348\n",
      "place_dividend\n",
      "348 355\n",
      "added_money\n",
      "355 360\n",
      "obtaining_money\n",
      "360 365\n",
      "race_pace_flow_code\n",
      "365 367\n",
      "horse_pace_flow_code\n",
      "367 369\n",
      "corner4_positioning_code\n",
      "369 370\n"
     ]
    }
   ],
   "source": [
    "fname_json = \"./SED_absoishi.json\" # サンプルのjsonファイル\n",
    "\n",
    "with open(fname_json,encoding=\"UTF-8\") as f:\n",
    "    j = json.load(f) # jdon情報\n",
    "    \n",
    "    \n",
    "for k,v in j.items():\n",
    "    print(k)\n",
    "    print(v[\"start_ind_b\"],v[\"end_ind_b\"])\n",
    "    \n",
    "#     for p in data['people']:\n",
    "#         print('Name: ' + p['name'])\n",
    "#         print('Website: ' + p['website'])\n",
    "#         print('From: ' + p['from'])\n",
    "#         print('')"
   ]
  },
  {
   "cell_type": "code",
   "execution_count": 50,
   "id": "c8e63871",
   "metadata": {
    "ExecuteTime": {
     "end_time": "2021-06-02T14:41:00.539970Z",
     "start_time": "2021-06-02T14:41:00.517965Z"
    }
   },
   "outputs": [
    {
     "name": "stdout",
     "output_type": "stream",
     "text": [
      "310\n",
      "310\n",
      "310\n",
      "310\n",
      "310\n",
      "310\n",
      "310\n",
      "310\n",
      "310\n",
      "310\n",
      "310\n",
      "310\n",
      "310\n",
      "310\n",
      "310\n",
      "310\n",
      "310\n",
      "310\n",
      "310\n",
      "310\n",
      "310\n",
      "310\n",
      "310\n",
      "310\n",
      "310\n",
      "310\n",
      "310\n",
      "310\n",
      "310\n",
      "310\n",
      "310\n",
      "310\n",
      "310\n",
      "310\n",
      "310\n",
      "310\n",
      "310\n",
      "310\n",
      "310\n",
      "310\n",
      "310\n",
      "310\n",
      "310\n",
      "310\n",
      "310\n",
      "310\n",
      "310\n",
      "310\n",
      "310\n",
      "310\n",
      "310\n",
      "310\n",
      "310\n",
      "310\n",
      "310\n",
      "310\n",
      "310\n",
      "310\n",
      "310\n",
      "310\n",
      "310\n",
      "310\n",
      "310\n",
      "310\n",
      "310\n",
      "310\n",
      "310\n",
      "310\n",
      "310\n",
      "310\n",
      "310\n",
      "310\n",
      "310\n",
      "310\n",
      "310\n",
      "310\n",
      "310\n",
      "310\n",
      "310\n",
      "310\n",
      "310\n",
      "310\n",
      "310\n",
      "310\n",
      "310\n",
      "310\n",
      "310\n",
      "310\n",
      "310\n",
      "310\n",
      "310\n",
      "310\n",
      "310\n",
      "310\n",
      "310\n",
      "310\n",
      "310\n",
      "310\n",
      "310\n",
      "310\n",
      "310\n",
      "310\n",
      "310\n",
      "310\n",
      "310\n",
      "310\n",
      "310\n",
      "310\n",
      "310\n",
      "310\n",
      "310\n",
      "310\n",
      "310\n",
      "310\n",
      "310\n",
      "310\n",
      "310\n",
      "310\n",
      "310\n",
      "310\n",
      "310\n",
      "310\n",
      "310\n",
      "310\n",
      "310\n",
      "310\n",
      "310\n",
      "310\n",
      "310\n",
      "310\n",
      "310\n",
      "310\n",
      "310\n",
      "310\n",
      "310\n",
      "310\n",
      "310\n",
      "310\n",
      "310\n",
      "310\n",
      "310\n",
      "310\n",
      "310\n",
      "310\n",
      "310\n",
      "310\n",
      "310\n",
      "310\n",
      "310\n",
      "310\n",
      "310\n",
      "310\n",
      "310\n",
      "310\n",
      "310\n",
      "310\n",
      "310\n",
      "310\n",
      "310\n",
      "310\n",
      "310\n",
      "310\n",
      "310\n",
      "310\n",
      "310\n",
      "310\n",
      "310\n",
      "310\n",
      "310\n",
      "310\n",
      "310\n",
      "310\n",
      "310\n",
      "310\n",
      "310\n",
      "310\n",
      "310\n",
      "310\n",
      "310\n",
      "310\n",
      "310\n",
      "310\n",
      "310\n",
      "310\n",
      "310\n",
      "310\n",
      "310\n",
      "310\n",
      "310\n",
      "310\n",
      "310\n",
      "310\n",
      "310\n",
      "310\n",
      "310\n",
      "310\n",
      "310\n",
      "310\n",
      "310\n",
      "310\n",
      "310\n",
      "310\n",
      "310\n",
      "310\n",
      "310\n",
      "310\n",
      "310\n",
      "310\n",
      "310\n",
      "310\n",
      "310\n",
      "310\n",
      "310\n",
      "310\n",
      "310\n",
      "310\n",
      "310\n",
      "310\n",
      "310\n",
      "310\n",
      "310\n",
      "310\n",
      "310\n",
      "310\n",
      "310\n",
      "310\n",
      "310\n",
      "310\n",
      "310\n",
      "310\n",
      "310\n",
      "310\n",
      "310\n",
      "310\n",
      "310\n",
      "310\n",
      "310\n",
      "310\n",
      "310\n",
      "310\n",
      "310\n",
      "310\n",
      "310\n",
      "310\n",
      "310\n",
      "310\n",
      "310\n",
      "310\n",
      "310\n",
      "310\n",
      "310\n",
      "310\n",
      "310\n",
      "310\n",
      "310\n",
      "310\n",
      "310\n",
      "310\n",
      "310\n",
      "310\n",
      "310\n",
      "310\n",
      "310\n",
      "310\n",
      "310\n",
      "310\n",
      "310\n",
      "310\n",
      "310\n",
      "310\n",
      "310\n",
      "310\n",
      "310\n",
      "310\n",
      "310\n",
      "310\n",
      "310\n",
      "310\n",
      "310\n",
      "310\n",
      "310\n",
      "310\n",
      "310\n",
      "310\n",
      "310\n",
      "310\n",
      "310\n",
      "310\n",
      "310\n",
      "310\n",
      "310\n",
      "310\n",
      "310\n",
      "310\n",
      "310\n",
      "310\n",
      "310\n",
      "310\n",
      "310\n",
      "310\n",
      "310\n",
      "310\n",
      "310\n",
      "310\n",
      "310\n",
      "310\n",
      "310\n",
      "310\n",
      "310\n",
      "310\n",
      "310\n",
      "310\n",
      "310\n",
      "310\n",
      "310\n",
      "310\n",
      "310\n",
      "310\n",
      "310\n",
      "310\n",
      "310\n",
      "310\n",
      "310\n",
      "310\n"
     ]
    }
   ],
   "source": [
    "for i in range(len(lines)):\n",
    "    print(len(lines[i]))"
   ]
  },
  {
   "cell_type": "code",
   "execution_count": 51,
   "id": "7ab3352c",
   "metadata": {
    "ExecuteTime": {
     "end_time": "2021-06-02T14:41:19.979960Z",
     "start_time": "2021-06-02T14:41:19.967958Z"
    }
   },
   "outputs": [
    {
     "data": {
      "text/plain": [
       "'01082101010610284320080913ヒカルジョディー\\u3000\\u3000\\u3000\\u3000\\u3000\\u3000\\u3000\\u3000\\u3000\\u300012001111011A31023 \\u3000\\u3000\\u3000\\u3000\\u3000\\u3000\\u3000\\u3000\\u3000\\u3000\\u3000\\u3000\\u3000\\u3000\\u3000\\u3000\\u3000\\u3000\\u3000\\u3000\\u3000\\u3000\\u3000\\u3000\\u300008\\u3000\\u3000\\u3000\\u30000101103540秋山真一郎\\u3000中尾秀正\\u3000\\u3000   8.803 45 43 -8  1  1                  231533MM-12.0 -7.4 -3.4 -2.0メジロマリア001347356                             1.3   8.2   1.900030304 -2 -21044610379466- 4113    880    150  500  40033331    \\n'"
      ]
     },
     "execution_count": 51,
     "metadata": {},
     "output_type": "execute_result"
    }
   ],
   "source": [
    "lines[0]"
   ]
  },
  {
   "cell_type": "code",
   "execution_count": 28,
   "id": "60bbb08c",
   "metadata": {
    "ExecuteTime": {
     "end_time": "2021-06-02T14:26:59.366162Z",
     "start_time": "2021-06-02T14:26:59.348655Z"
    }
   },
   "outputs": [
    {
     "data": {
      "text/plain": [
       "0      ヒカルジョディー　　　　　　　　　　\n",
       "1      メジロマリアン　　　　　　　　　　　\n",
       "2      マッキーアイアン　　　　　　　　　　\n",
       "3      ケージーカンザクラ　　　　　　　　　\n",
       "4      コリコパット　　　　　　　　　　　　\n",
       "              ...        \n",
       "319    サンダーアロング　　　　　　　　　　\n",
       "320    ルリーバニヤン　　　　　　　　　　　\n",
       "321    オースミビーナス　　　　　　　　　　\n",
       "322    ヒカルダイヤモンド　　　　　　　　　\n",
       "323    ビーアデビル　　　　　　　　　　　　\n",
       "Length: 324, dtype: object"
      ]
     },
     "execution_count": 28,
     "metadata": {},
     "output_type": "execute_result"
    }
   ],
   "source": [
    "# 文字列の区切りインデックスを格納したdict\n",
    "list_ind = {\n",
    "    \"\"\n",
    "}\n",
    "    \n",
    "\n",
    "lines.str[26:44]"
   ]
  },
  {
   "cell_type": "code",
   "execution_count": 61,
   "id": "673730fd",
   "metadata": {
    "ExecuteTime": {
     "end_time": "2021-06-02T14:45:53.818126Z",
     "start_time": "2021-06-02T14:45:53.803123Z"
    }
   },
   "outputs": [
    {
     "data": {
      "text/plain": [
       "324"
      ]
     },
     "execution_count": 61,
     "metadata": {},
     "output_type": "execute_result"
    }
   ],
   "source": [
    "lines.str[44:].str.contains(\"\\u3000\").sum()\n",
    "# .isin([\"1\"])"
   ]
  },
  {
   "cell_type": "code",
   "execution_count": 72,
   "id": "48c89a95",
   "metadata": {
    "ExecuteTime": {
     "end_time": "2021-06-02T14:46:37.299154Z",
     "start_time": "2021-06-02T14:46:37.291154Z"
    }
   },
   "outputs": [
    {
     "data": {
      "text/plain": [
       "0"
      ]
     },
     "execution_count": 72,
     "metadata": {},
     "output_type": "execute_result"
    }
   ],
   "source": [
    "lines.str[44:61].str.contains(\"\\u3000\").sum()"
   ]
  },
  {
   "cell_type": "code",
   "execution_count": 113,
   "id": "c2a17b6c",
   "metadata": {
    "ExecuteTime": {
     "end_time": "2021-06-03T10:54:26.799570Z",
     "start_time": "2021-06-03T10:54:26.788568Z"
    }
   },
   "outputs": [
    {
     "name": "stdout",
     "output_type": "stream",
     "text": [
      "　　　　　　　　　　　　　　　　　　　　　　　　　\n",
      "コスモス賞　　　　　　　　　　　　　　　　　　　　\n",
      "ライラック賞　　　　　　　　　　　　　　　　　　　\n",
      "エルムステークス　　　　　　　　　　　　　　　　　\n",
      "白井特別　　　　　　　　　　　　　　　　　　　　　\n",
      "浦安特別　　　　　　　　　　　　　　　　　　　　　\n",
      "紫苑ステークス　　　　　　　　　　　　　　　　　　\n"
     ]
    }
   ],
   "source": [
    "for u in lines.str[62:87].unique():\n",
    "    print(u)"
   ]
  },
  {
   "cell_type": "code",
   "execution_count": 97,
   "id": "28d8e751",
   "metadata": {
    "ExecuteTime": {
     "end_time": "2021-06-02T15:00:11.540822Z",
     "start_time": "2021-06-02T15:00:11.534822Z"
    },
    "scrolled": false
   },
   "outputs": [
    {
     "data": {
      "text/plain": [
       "array(['08', '12', '10', '15', '13', '16', '11', '14'], dtype=object)"
      ]
     },
     "execution_count": 97,
     "metadata": {},
     "output_type": "execute_result"
    }
   ],
   "source": [
    "lines.str[87:89].unique() # 頭数\n",
    "# .str.contains(\"\\u3000\").sum()"
   ]
  },
  {
   "cell_type": "code",
   "execution_count": 102,
   "id": "9f1e2e57",
   "metadata": {
    "ExecuteTime": {
     "end_time": "2021-06-02T15:01:44.791134Z",
     "start_time": "2021-06-02T15:01:44.784132Z"
    }
   },
   "outputs": [
    {
     "data": {
      "text/plain": [
       "array(['\\u3000\\u3000\\u3000\\u3000', 'コスモス', 'ライラッ', 'エルムＳ', '白井特別', '浦安特別',\n",
       "       '紫苑Ｓ\\u3000'], dtype=object)"
      ]
     },
     "execution_count": 102,
     "metadata": {},
     "output_type": "execute_result"
    }
   ],
   "source": [
    "lines.str[89:93].unique() # レース名略称（4文字）"
   ]
  },
  {
   "cell_type": "code",
   "execution_count": 109,
   "id": "9129c7fe",
   "metadata": {
    "ExecuteTime": {
     "end_time": "2021-06-02T15:03:20.465824Z",
     "start_time": "2021-06-02T15:03:20.445818Z"
    },
    "scrolled": true
   },
   "outputs": [
    {
     "data": {
      "text/plain": [
       "array(['0101103540', '0201104540', '0701121540', '0501110540',\n",
       "       '0301109540', '0601118530', '0401109540', '0801125540',\n",
       "       '0401005560', '0501006560', '0601008560', '0901016540',\n",
       "       '0701008560', '0301002540', '1001018540', '1201027540',\n",
       "       '1101025540', '0100598540', '0200599540', '0801009540',\n",
       "       '0601482510', '0401478530', '1001502540', '0301472540',\n",
       "       '0701482530', '0801492540', '0901501540', '0501482540',\n",
       "       '0101471510', '0201472540', '0701108540', '0301102530',\n",
       "       '0101097540', '1101112530', '1401117540', '0401102530',\n",
       "       '0901112560', '0201100540', '0501107540', '1501119540',\n",
       "       '1301117510', '1001112540', '0801109560', '1201113530',\n",
       "       '0601108530', '0601502540', '0301484540', '0801504540',\n",
       "       '1201513540', '0101468540', '1101512540', '0901505540',\n",
       "       '0201474540', '0501501540', '0401498540', '1001510540',\n",
       "       '0701503540', '1301532530', '0602367570', '0202364560',\n",
       "       '0102362530', '0902372570', '0702367570', '1102401570',\n",
       "       '0030000540', '0302364570', '0802369540', '0502367570',\n",
       "       '1002377540', '0402364570', '1001474560', '1101481540',\n",
       "       '0201460570', '0301460570', '0701471540', '1301495570',\n",
       "       '0901471510', '0101460560', '0801471570', '0501463570',\n",
       "       '0401462560', '0601465540', '1201482540', '1202030570',\n",
       "       '1002026520', '1302045520', '0602024530', '0102019540',\n",
       "       '0302020540', '0802026520', '0502023550', '1502072540',\n",
       "       '0902026520', '0702025510', '0402021570', '1402047570',\n",
       "       '0202019540', '1102027570', '0901519540', '0601514540',\n",
       "       '0101506540', '0701515540', '0301508540', '0401509540',\n",
       "       '0801515540', '0201506540', '1101525540', '0501509540',\n",
       "       '1201536540', '1001524540', '0402029540', '0702031560',\n",
       "       '0602031520', '0302029550', '0902035550', '0502030520',\n",
       "       '1502041560', '1102037510', '1202038530', '1302038520',\n",
       "       '0102028550', '1402039520', '1002036540', '0802034530',\n",
       "       '0202028520', '1602043520', '0401434580', '0701438560',\n",
       "       '0901447570', '1101450570', '0301434560', '1001450560',\n",
       "       '0201431560', '0601437570', '0501437560', '0101429570',\n",
       "       '1201458560', '0801445540', '0801104540', '1401111550',\n",
       "       '1301108500', '0301102560', '0401102550', '0101100500',\n",
       "       '0901105570', '0201101570', '1001105570', '1101107530',\n",
       "       '1201107550', '0601103530', '1601121550', '1501115520',\n",
       "       '0501102540', '0701103550', '1101150540', '1601190540',\n",
       "       '0601144540', '0801146510', '0901147510', '1301152540',\n",
       "       '0301131540', '1201150540', '0701145540', '1401156540',\n",
       "       '0101120540', '1501161540', '0201125540', '1001150510',\n",
       "       '0501138540', '0401134540', '1001528540', '0601507540',\n",
       "       '0201482540', '0701508540', '0101482540', '0301485540',\n",
       "       '0801518540', '0901524540', '0401493540', '1101153530',\n",
       "       '0101127540', '1401162540', '1201156540', '0501141540',\n",
       "       '0401137540', '0601143530', '0701146540', '0801148560',\n",
       "       '0201134530', '1301161540', '0901151560', '1001151510',\n",
       "       '0301134560', '1501169530', '0803186600', '0303154600',\n",
       "       '0503178560', '0403165580', '1003202580', '0603179600',\n",
       "       '0103152600', '0903198580', '1203237580', '0703181580',\n",
       "       '0203152600', '1303240600', '1103206600', '1403244600',\n",
       "       '0401368540', '0901375540', '0101363540', '1201398540',\n",
       "       '0501370540', '0701372540', '1001388540', '0801374540',\n",
       "       '1101394540', '0201368540', '0301368540', '0601371540',\n",
       "       '0602018560', '0302015530', '0402015560', '0702018560',\n",
       "       '1302027540', '0202015560', '1202024540', '0802020560',\n",
       "       '0102014560', '0502016530', '1002020510', '1502034560',\n",
       "       '1402033560', '1102024510', '0902020540', '0401118550',\n",
       "       '1401134550', '0801125550', '0101115530', '0201116550',\n",
       "       '0701124550', '1001127550', '1101127550', '0301116550',\n",
       "       '1301134530', '1501136530', '0901127500', '1201129530',\n",
       "       '0020000530', '0501124550', '0601124550', '1301566570',\n",
       "       '0601554570', '0201548570', '0401550570', '0101546570',\n",
       "       '1201565570', '0501550570', '1101560540', '0901557570',\n",
       "       '0301549570', '0801555570', '0701555540', '1502004570',\n",
       "       '1001559570', '1401586570', '0301476570', '0801479550',\n",
       "       '0501478570', '0101468570', '0401478570', '1001486570',\n",
       "       '0701479570', '1201491540', '0901480570', '0201475570',\n",
       "       '1101488570', '0601478570', '0101104570', '1001119550',\n",
       "       '0301113570', '0201105550', '1501129550', '1201125550',\n",
       "       '1401128570', '1101123550', '1301127570', '0701117570',\n",
       "       '0601113570', '1601140570', '0901118550', '0501113550',\n",
       "       '0401113570', '0802010540', '0501598540', '0301596540',\n",
       "       '0401597540', '0101594540', '1002019540', '1102026540',\n",
       "       '0902015540', '0602005540', '0201596540', '0702009540',\n",
       "       '1001338550', '1201341530', '1501352520', '1601361520',\n",
       "       '0401335530', '1301342550', '0501336550', '1101339530',\n",
       "       '1401344550', '0801337570', '0101325570', '0301333570',\n",
       "       '0901338550', '0701337500', '0201328550', '0601337550'],\n",
       "      dtype=object)"
      ]
     },
     "execution_count": 109,
     "metadata": {},
     "output_type": "execute_result"
    }
   ],
   "source": [
    "lines.str[93:103].unique() # なにかの数字の羅列"
   ]
  },
  {
   "cell_type": "code",
   "execution_count": null,
   "id": "28ebe82f",
   "metadata": {},
   "outputs": [],
   "source": []
  },
  {
   "cell_type": "markdown",
   "id": "ba7cdecc",
   "metadata": {},
   "source": [
    "<img src=\"./馬場状態.png\" width=100>\n"
   ]
  },
  {
   "cell_type": "code",
   "execution_count": null,
   "id": "df22932b",
   "metadata": {},
   "outputs": [],
   "source": []
  },
  {
   "cell_type": "code",
   "execution_count": 375,
   "id": "970137fe",
   "metadata": {
    "ExecuteTime": {
     "end_time": "2021-06-03T13:06:33.445623Z",
     "start_time": "2021-06-03T13:06:33.427620Z"
    }
   },
   "outputs": [
    {
     "data": {
      "image/png": "[encoded data removed]",
      "text/plain": [
       "<IPython.core.display.Image object>"
      ]
     },
     "execution_count": 375,
     "metadata": {},
     "output_type": "execute_result"
    }
   ],
   "source": [
    "from IPython.display import Image\n",
    "Image(\"馬場状態.png\")"
   ]
  },
  {
   "cell_type": "code",
   "execution_count": null,
   "id": "2bbade96",
   "metadata": {},
   "outputs": [],
   "source": []
  },
  {
   "cell_type": "code",
   "execution_count": null,
   "id": "5408ddbe",
   "metadata": {},
   "outputs": [],
   "source": []
  },
  {
   "cell_type": "code",
   "execution_count": null,
   "id": "4e7998f2",
   "metadata": {},
   "outputs": [],
   "source": []
  },
  {
   "cell_type": "code",
   "execution_count": 22,
   "id": "32c3c63e",
   "metadata": {
    "ExecuteTime": {
     "end_time": "2021-06-02T14:24:36.227538Z",
     "start_time": "2021-06-02T14:24:36.201529Z"
    }
   },
   "outputs": [
    {
     "name": "stdout",
     "output_type": "stream",
     "text": [
      "0 ['ヒ' 'メ' 'マ' 'ケ' 'コ' 'プ' 'フ' 'キ' 'サ' 'オ' 'ペ' 'ク' 'グ' 'ト' 'ジ' 'チ' 'ア' 'バ'\n",
      " 'ウ' 'ス' 'ナ' 'ブ' 'ロ' 'リ' 'ハ' 'ホ' 'ソ' 'イ' 'テ' 'セ' 'ボ' 'ラ' 'シ' 'ワ' 'ギ' 'ベ'\n",
      " 'タ' 'ミ' 'ネ' 'ツ' 'カ' 'モ' 'デ' 'ダ' 'エ' 'ビ' 'ユ' 'ド' 'ニ' 'ピ' 'レ' 'ヴ' 'ノ' 'ガ'\n",
      " 'ヤ' 'ゴ' 'ヨ' 'パ' 'ル']\n",
      "1 ['カ' 'ジ' 'ッ' 'ー' 'リ' 'ロ' 'レ' 'タ' 'ウ' 'ン' 'ペ' 'ェ' 'メ' 'エ' 'ピ' 'ル' 'ク' 'ド'\n",
      " 'イ' 'ラ' 'ズ' 'オ' 'ギ' 'ワ' 'ソ' 'ス' 'ァ' 'プ' 'ニ' 'ム' 'グ' 'ョ' 'ャ' 'ィ' 'ォ' 'ュ'\n",
      " 'ガ' 'フ' 'シ' 'ミ' 'ノ' 'コ' 'チ' 'テ' 'ダ' 'ナ' 'ア' 'パ' 'ヴ' 'ベ' 'バ' 'ザ' 'ケ' 'ビ'\n",
      " 'モ' 'ネ' 'ポ' 'キ' 'マ' 'サ' 'ト']\n",
      "2 ['ル' 'ロ' 'キ' 'ジ' 'コ' 'ウ' 'ア' 'サ' 'ス' 'ワ' '\\u3000' 'テ' 'イ' 'セ' 'リ' 'ド' 'ー'\n",
      " 'チ' 'タ' 'ト' 'マ' 'デ' 'カ' 'ノ' 'モ' 'ラ' 'ク' 'プ' 'パ' 'ブ' 'ン' 'シ' 'ッ' 'レ' 'ネ'\n",
      " 'グ' 'バ' 'ベ' 'ダ' 'ヴ' 'ギ' 'ゥ' 'ャ' 'ユ' 'エ' 'ニ' 'ゴ' 'ゼ' 'ソ' 'ビ' 'ム' 'ヨ' 'ァ'\n",
      " 'ズ' 'フ' 'ペ' 'ガ' 'ボ' 'ナ' 'ミ' 'ィ' 'ザ' 'ェ' 'オ']\n",
      "3 ['ジ' 'マ' 'ー' 'パ' 'ス' 'リ' 'ン' '\\u3000' 'ピ' 'ィ' 'ナ' 'カ' 'ダ' 'タ' 'ド' 'ェ' 'ワ'\n",
      " 'オ' 'イ' 'テ' 'ビ' 'ハ' 'ト' 'コ' 'シ' 'ザ' 'ツ' 'ラ' 'レ' 'ブ' 'グ' 'ル' 'エ' 'ガ' 'ク'\n",
      " 'モ' 'ヴ' 'ァ' 'チ' 'ッ' 'フ' 'キ' 'ム' 'ネ' 'プ' 'ア' 'ョ' 'ウ' 'ォ' 'バ' 'ヌ' 'ゴ' 'ャ'\n",
      " 'ュ' 'ロ' 'ミ' 'メ' 'デ' 'セ' 'ケ' 'ノ' 'ゥ' 'ニ']\n",
      "4 ['ョ' 'リ' 'ア' 'カ' 'ッ' 'ト' 'ン' 'オ' 'ャ' 'ド' '\\u3000' 'レ' 'テ' 'シ' 'ク' 'ー' 'ム'\n",
      " 'ロ' 'ラ' 'ヤ' 'ィ' 'ブ' 'ゴ' 'ル' 'ビ' 'ベ' 'セ' 'ワ' 'ピ' 'イ' 'プ' 'ハ' 'ス' 'マ' 'エ'\n",
      " 'タ' 'ギ' 'ダ' 'フ' 'ァ' 'ェ' 'ミ' 'ズ' 'グ' 'チ' 'ュ' 'ゲ' 'ケ' 'ガ' 'ウ' 'ヒ' 'ニ' 'パ'\n",
      " 'デ' 'バ' 'ボ' 'サ' 'キ' 'ナ' 'コ' 'ヴ' 'メ' 'ジ' 'ザ']\n",
      "5 ['デ' 'ア' 'イ' 'ン' 'ト' '\\u3000' 'グ' 'リ' 'ッ' 'シ' 'チ' 'レ' 'ヒ' 'ー' 'サ' 'バ' 'ザ'\n",
      " 'ジ' 'ダ' 'ス' 'ナ' 'セ' 'ラ' 'テ' 'ガ' 'ヘ' 'ク' 'ル' 'ヴ' 'パ' 'ウ' 'マ' 'フ' 'ベ' 'キ'\n",
      " 'ユ' 'ヤ' 'メ' 'ァ' 'ピ' 'ヲ' 'ボ' 'ォ' 'ペ' 'オ' 'ュ' 'ィ' 'プ' 'ニ' 'ム' 'ツ' 'ブ' 'コ'\n",
      " 'ミ' 'ノ' 'カ' 'ロ' 'ハ' 'モ' 'タ' 'ャ' 'ワ' 'ポ' 'ョ' 'エ' 'ド' 'ゲ']\n",
      "6 ['ィ' 'ン' 'ア' 'ザ' '\\u3000' 'ロ' 'ュ' 'ク' 'テ' 'オ' 'ー' 'ス' 'シ' 'ル' 'マ' 'レ' 'タ'\n",
      " 'ョ' 'ラ' 'ミ' 'ッ' 'イ' 'ヴ' 'バ' 'キ' 'ト' 'ド' 'ケ' 'ボ' 'ム' 'ズ' 'ペ' 'セ' 'ャ' 'ァ'\n",
      " 'ガ' 'ェ' 'ジ' 'ワ' 'フ' 'プ' 'デ' 'カ' 'ウ' 'ビ' 'サ' 'コ' 'ダ' 'ヒ' 'エ' 'ヌ' 'ォ' 'ブ'\n",
      " 'ニ' 'グ' 'ヤ' 'チ' 'ツ' 'ナ' 'ゲ' 'ベ' 'リ' 'モ']\n",
      "7 ['ー' '\\u3000' 'ン' 'ク' 'ウ' 'ネ' 'ト' 'テ' 'チ' 'イ' 'ル' 'リ' 'ッ' 'ジ' 'フ' 'ダ' 'ノ'\n",
      " 'ム' 'ニ' 'ヤ' 'ナ' 'ラ' 'ハ' 'カ' 'ド' 'ロ' 'ヴ' 'デ' 'ュ' 'マ' 'コ' 'パ' 'グ' 'ゼ' 'ィ'\n",
      " 'オ' 'エ' 'バ' 'ョ' 'メ' 'ズ' 'サ' 'ブ' 'ア' 'ツ' 'プ' 'ェ' 'ザ' 'ガ' 'ス' 'ピ' 'ボ' 'セ'\n",
      " 'シ' 'ペ']\n",
      "8 ['\\u3000' 'ラ' 'ズ' 'ル' 'ィ' 'ー' 'ン' 'サ' 'フ' 'ク' 'ポ' 'グ' 'イ' 'タ' 'ジ' 'ト' 'ダ'\n",
      " 'ェ' 'ツ' 'ロ' 'プ' 'ァ' 'ス' 'ヴ' 'ド' 'ブ' 'リ']\n",
      "9 ['\\u3000']\n",
      "10 ['\\u3000']\n",
      "11 ['\\u3000']\n",
      "12 ['\\u3000']\n",
      "13 ['\\u3000']\n",
      "14 ['\\u3000']\n",
      "15 ['\\u3000']\n",
      "16 ['\\u3000']\n",
      "17 ['\\u3000']\n"
     ]
    }
   ],
   "source": [
    "for i in range(18):\n",
    "    print(i,pd.Series(lines).str[26+i].unique())"
   ]
  },
  {
   "cell_type": "code",
   "execution_count": 25,
   "id": "d9a8d1c8",
   "metadata": {
    "ExecuteTime": {
     "end_time": "2021-06-02T14:25:14.295673Z",
     "start_time": "2021-06-02T14:25:14.287672Z"
    }
   },
   "outputs": [
    {
     "data": {
      "text/plain": [
       "10     01082102030510606320080913ペペ　　　　　　　　　　　　　　　　10...\n",
       "31     01082104020510490820080913リオ　　　　　　　　　　　　　　　　12...\n",
       "171    06084102010610582820080913ダリ　　　　　　　　　　　　　　　　18...\n",
       "dtype: object"
      ]
     },
     "execution_count": 25,
     "metadata": {},
     "output_type": "execute_result"
    }
   ],
   "source": [
    "pd.Series(lines)[pd.Series(lines).str[28]==\"\\u3000\"]"
   ]
  },
  {
   "cell_type": "code",
   "execution_count": null,
   "id": "e3f1cb3a",
   "metadata": {},
   "outputs": [],
   "source": []
  },
  {
   "cell_type": "code",
   "execution_count": 65,
   "id": "714aee05",
   "metadata": {
    "ExecuteTime": {
     "end_time": "2021-06-01T14:19:17.324977Z",
     "start_time": "2021-06-01T14:19:17.312970Z"
    }
   },
   "outputs": [
    {
     "data": {
      "text/plain": [
       "'01082101010610284320080913ヒカルジョディー          12001111011A31023                          08    0101103540秋山真一郎 中尾秀正     8.803 45 43 -8  1  1                  231533MM-12.0 -7.4 -3.4 -2.0メジロマリア001347356                             1.3   8.2   1.900030304 -2 -21044610379466- 4113    880    150  500  40033331    '"
      ]
     },
     "execution_count": 65,
     "metadata": {},
     "output_type": "execute_result"
    }
   ],
   "source": [
    "lines.split(\"\\n\")[0].replace(\"\\u3000\",\" \")"
   ]
  },
  {
   "cell_type": "code",
   "execution_count": 25,
   "id": "390376ee",
   "metadata": {
    "ExecuteTime": {
     "end_time": "2021-06-01T13:17:52.913133Z",
     "start_time": "2021-06-01T13:17:52.896129Z"
    }
   },
   "outputs": [
    {
     "data": {
      "text/plain": [
       "'01082101'"
      ]
     },
     "execution_count": 25,
     "metadata": {},
     "output_type": "execute_result"
    }
   ],
   "source": [
    "lines.split(\"\\n\")[0][0:8] # レースキー"
   ]
  },
  {
   "cell_type": "code",
   "execution_count": 26,
   "id": "c75ed282",
   "metadata": {
    "ExecuteTime": {
     "end_time": "2021-06-01T13:18:11.504059Z",
     "start_time": "2021-06-01T13:18:11.497058Z"
    }
   },
   "outputs": [
    {
     "data": {
      "text/plain": [
       "'01'"
      ]
     },
     "execution_count": 26,
     "metadata": {},
     "output_type": "execute_result"
    }
   ],
   "source": [
    "lines.split(\"\\n\")[0][0:2] # 場コード、01は札幌"
   ]
  },
  {
   "cell_type": "code",
   "execution_count": 27,
   "id": "6b00e7ad",
   "metadata": {
    "ExecuteTime": {
     "end_time": "2021-06-01T13:18:30.517959Z",
     "start_time": "2021-06-01T13:18:30.508957Z"
    }
   },
   "outputs": [
    {
     "data": {
      "text/plain": [
       "'08'"
      ]
     },
     "execution_count": 27,
     "metadata": {},
     "output_type": "execute_result"
    }
   ],
   "source": [
    "lines.split(\"\\n\")[0][2:4] # 年"
   ]
  },
  {
   "cell_type": "code",
   "execution_count": 28,
   "id": "adff1543",
   "metadata": {
    "ExecuteTime": {
     "end_time": "2021-06-01T13:18:49.255058Z",
     "start_time": "2021-06-01T13:18:49.246056Z"
    }
   },
   "outputs": [
    {
     "data": {
      "text/plain": [
       "'2'"
      ]
     },
     "execution_count": 28,
     "metadata": {},
     "output_type": "execute_result"
    }
   ],
   "source": [
    "lines.split(\"\\n\")[0][4:5] # 回"
   ]
  },
  {
   "cell_type": "code",
   "execution_count": 29,
   "id": "bb949e1d",
   "metadata": {
    "ExecuteTime": {
     "end_time": "2021-06-01T13:23:24.956106Z",
     "start_time": "2021-06-01T13:23:24.945104Z"
    }
   },
   "outputs": [
    {
     "data": {
      "text/plain": [
       "'1'"
      ]
     },
     "execution_count": 29,
     "metadata": {},
     "output_type": "execute_result"
    }
   ],
   "source": [
    "lines.split(\"\\n\")[0][5:6] # 日"
   ]
  },
  {
   "cell_type": "code",
   "execution_count": 30,
   "id": "9ba4017f",
   "metadata": {
    "ExecuteTime": {
     "end_time": "2021-06-01T13:24:48.798987Z",
     "start_time": "2021-06-01T13:24:48.793987Z"
    }
   },
   "outputs": [
    {
     "data": {
      "text/plain": [
       "'01'"
      ]
     },
     "execution_count": 30,
     "metadata": {},
     "output_type": "execute_result"
    }
   ],
   "source": [
    "lines.split(\"\\n\")[0][6:8] # R"
   ]
  },
  {
   "cell_type": "code",
   "execution_count": 32,
   "id": "720265ba",
   "metadata": {
    "ExecuteTime": {
     "end_time": "2021-06-01T13:25:29.746809Z",
     "start_time": "2021-06-01T13:25:29.732020Z"
    }
   },
   "outputs": [
    {
     "data": {
      "text/plain": [
       "'01'"
      ]
     },
     "execution_count": 32,
     "metadata": {},
     "output_type": "execute_result"
    }
   ],
   "source": [
    "lines.split(\"\\n\")[0][8:10] # 馬番"
   ]
  },
  {
   "cell_type": "code",
   "execution_count": 33,
   "id": "8e037731",
   "metadata": {
    "ExecuteTime": {
     "end_time": "2021-06-01T13:25:41.863139Z",
     "start_time": "2021-06-01T13:25:41.857138Z"
    }
   },
   "outputs": [
    {
     "data": {
      "text/plain": [
       "'0610284320080913'"
      ]
     },
     "execution_count": 33,
     "metadata": {},
     "output_type": "execute_result"
    }
   ],
   "source": [
    "lines.split(\"\\n\")[0][10:26] # 競走成績キー"
   ]
  },
  {
   "cell_type": "code",
   "execution_count": 34,
   "id": "56cc752d",
   "metadata": {
    "ExecuteTime": {
     "end_time": "2021-06-01T13:26:12.498630Z",
     "start_time": "2021-06-01T13:26:12.481625Z"
    }
   },
   "outputs": [
    {
     "data": {
      "text/plain": [
       "'06102843'"
      ]
     },
     "execution_count": 34,
     "metadata": {},
     "output_type": "execute_result"
    }
   ],
   "source": [
    "lines.split(\"\\n\")[0][10:18] # 血統登録番号"
   ]
  },
  {
   "cell_type": "code",
   "execution_count": 35,
   "id": "c1c61a11",
   "metadata": {
    "ExecuteTime": {
     "end_time": "2021-06-01T13:29:40.966883Z",
     "start_time": "2021-06-01T13:29:40.954881Z"
    }
   },
   "outputs": [
    {
     "data": {
      "text/plain": [
       "'20080913'"
      ]
     },
     "execution_count": 35,
     "metadata": {},
     "output_type": "execute_result"
    }
   ],
   "source": [
    "lines.split(\"\\n\")[0][18:26] # 年月日"
   ]
  },
  {
   "cell_type": "code",
   "execution_count": 73,
   "id": "cbdd87ec",
   "metadata": {
    "ExecuteTime": {
     "end_time": "2021-06-01T14:21:44.435045Z",
     "start_time": "2021-06-01T14:21:44.424043Z"
    }
   },
   "outputs": [
    {
     "data": {
      "text/plain": [
       "'ヒカルジョディー\\u3000\\u3000\\u3000\\u3000\\u3000\\u3000\\u3000\\u3000\\u3000\\u3000'"
      ]
     },
     "execution_count": 73,
     "metadata": {},
     "output_type": "execute_result"
    }
   ],
   "source": [
    "lines.split(\"\\n\")[0][26:44] # 馬名、これ違う気がする"
   ]
  },
  {
   "cell_type": "code",
   "execution_count": 41,
   "id": "0e7b4386",
   "metadata": {
    "ExecuteTime": {
     "end_time": "2021-06-01T13:58:20.969867Z",
     "start_time": "2021-06-01T13:58:20.956864Z"
    }
   },
   "outputs": [
    {
     "data": {
      "text/plain": [
       "'1200'"
      ]
     },
     "execution_count": 41,
     "metadata": {},
     "output_type": "execute_result"
    }
   ],
   "source": [
    "lines.split(\"\\n\")[0][44:48] # 距離"
   ]
  },
  {
   "cell_type": "code",
   "execution_count": 42,
   "id": "a365901a",
   "metadata": {
    "ExecuteTime": {
     "end_time": "2021-06-01T14:03:00.193024Z",
     "start_time": "2021-06-01T14:03:00.180021Z"
    }
   },
   "outputs": [
    {
     "data": {
      "text/plain": [
       "'1'"
      ]
     },
     "execution_count": 42,
     "metadata": {},
     "output_type": "execute_result"
    }
   ],
   "source": [
    "lines.split(\"\\n\")[0][48:49] # 芝ダ障害コード"
   ]
  },
  {
   "cell_type": "code",
   "execution_count": 43,
   "id": "c403ca83",
   "metadata": {
    "ExecuteTime": {
     "end_time": "2021-06-01T14:04:03.339801Z",
     "start_time": "2021-06-01T14:04:03.329800Z"
    }
   },
   "outputs": [
    {
     "data": {
      "text/plain": [
       "'1'"
      ]
     },
     "execution_count": 43,
     "metadata": {},
     "output_type": "execute_result"
    }
   ],
   "source": [
    "lines.split(\"\\n\")[0][49:50] # 右左"
   ]
  },
  {
   "cell_type": "code",
   "execution_count": 44,
   "id": "1abc3676",
   "metadata": {
    "ExecuteTime": {
     "end_time": "2021-06-01T14:05:02.211432Z",
     "start_time": "2021-06-01T14:05:02.204430Z"
    }
   },
   "outputs": [
    {
     "data": {
      "text/plain": [
       "'1'"
      ]
     },
     "execution_count": 44,
     "metadata": {},
     "output_type": "execute_result"
    }
   ],
   "source": [
    "lines.split(\"\\n\")[0][50:51] # 内外"
   ]
  },
  {
   "cell_type": "code",
   "execution_count": 45,
   "id": "89f8ecc0",
   "metadata": {
    "ExecuteTime": {
     "end_time": "2021-06-01T14:05:56.240101Z",
     "start_time": "2021-06-01T14:05:56.229099Z"
    }
   },
   "outputs": [
    {
     "data": {
      "text/plain": [
       "'10'"
      ]
     },
     "execution_count": 45,
     "metadata": {},
     "output_type": "execute_result"
    }
   ],
   "source": [
    "lines.split(\"\\n\")[0][51:53] # 馬場状態"
   ]
  },
  {
   "cell_type": "code",
   "execution_count": 46,
   "id": "b373f8a5",
   "metadata": {
    "ExecuteTime": {
     "end_time": "2021-06-01T14:06:34.588855Z",
     "start_time": "2021-06-01T14:06:34.578852Z"
    }
   },
   "outputs": [
    {
     "data": {
      "text/plain": [
       "'11'"
      ]
     },
     "execution_count": 46,
     "metadata": {},
     "output_type": "execute_result"
    }
   ],
   "source": [
    "lines.split(\"\\n\")[0][53:55] # 種別"
   ]
  },
  {
   "cell_type": "code",
   "execution_count": 47,
   "id": "5dee1f2f",
   "metadata": {
    "ExecuteTime": {
     "end_time": "2021-06-01T14:07:10.320211Z",
     "start_time": "2021-06-01T14:07:10.316211Z"
    }
   },
   "outputs": [
    {
     "data": {
      "text/plain": [
       "'A3'"
      ]
     },
     "execution_count": 47,
     "metadata": {},
     "output_type": "execute_result"
    }
   ],
   "source": [
    "lines.split(\"\\n\")[0][55:57] # 条件"
   ]
  },
  {
   "cell_type": "code",
   "execution_count": 48,
   "id": "ccbac1a9",
   "metadata": {
    "ExecuteTime": {
     "end_time": "2021-06-01T14:07:40.619667Z",
     "start_time": "2021-06-01T14:07:40.603663Z"
    }
   },
   "outputs": [
    {
     "data": {
      "text/plain": [
       "'1'"
      ]
     },
     "execution_count": 48,
     "metadata": {},
     "output_type": "execute_result"
    }
   ],
   "source": [
    "lines.split(\"\\n\")[0][57:58] # 馬種類番号"
   ]
  },
  {
   "cell_type": "code",
   "execution_count": 49,
   "id": "994bad76",
   "metadata": {
    "ExecuteTime": {
     "end_time": "2021-06-01T14:09:28.836681Z",
     "start_time": "2021-06-01T14:09:28.827679Z"
    }
   },
   "outputs": [
    {
     "data": {
      "text/plain": [
       "'0'"
      ]
     },
     "execution_count": 49,
     "metadata": {},
     "output_type": "execute_result"
    }
   ],
   "source": [
    "lines.split(\"\\n\")[0][58:59] # 馬性別番号"
   ]
  },
  {
   "cell_type": "code",
   "execution_count": 50,
   "id": "63cf6791",
   "metadata": {
    "ExecuteTime": {
     "end_time": "2021-06-01T14:10:17.998822Z",
     "start_time": "2021-06-01T14:10:17.989820Z"
    }
   },
   "outputs": [
    {
     "data": {
      "text/plain": [
       "'2'"
      ]
     },
     "execution_count": 50,
     "metadata": {},
     "output_type": "execute_result"
    }
   ],
   "source": [
    "lines.split(\"\\n\")[0][59:60] # 国際競走記号"
   ]
  },
  {
   "cell_type": "code",
   "execution_count": 51,
   "id": "d6533cb7",
   "metadata": {
    "ExecuteTime": {
     "end_time": "2021-06-01T14:11:36.011891Z",
     "start_time": "2021-06-01T14:11:36.001889Z"
    }
   },
   "outputs": [
    {
     "data": {
      "text/plain": [
       "'3'"
      ]
     },
     "execution_count": 51,
     "metadata": {},
     "output_type": "execute_result"
    }
   ],
   "source": [
    "lines.split(\"\\n\")[0][60:61] # 重量"
   ]
  },
  {
   "cell_type": "code",
   "execution_count": 62,
   "id": "a4036e8f",
   "metadata": {
    "ExecuteTime": {
     "end_time": "2021-06-01T14:15:18.375270Z",
     "start_time": "2021-06-01T14:15:18.362761Z"
    }
   },
   "outputs": [
    {
     "data": {
      "text/plain": [
       "' '"
      ]
     },
     "execution_count": 62,
     "metadata": {},
     "output_type": "execute_result"
    }
   ],
   "source": [
    "lines.split(\"\\n\")[0][61:62] # グレード"
   ]
  },
  {
   "cell_type": "code",
   "execution_count": 72,
   "id": "b396cc92",
   "metadata": {
    "ExecuteTime": {
     "end_time": "2021-06-01T14:21:09.282753Z",
     "start_time": "2021-06-01T14:21:09.272749Z"
    }
   },
   "outputs": [
    {
     "data": {
      "text/plain": [
       "'\\u3000\\u3000\\u3000\\u3000\\u3000\\u3000\\u3000\\u3000\\u3000\\u3000\\u3000\\u3000\\u3000\\u3000\\u3000\\u3000\\u3000\\u3000\\u3000\\u3000\\u3000\\u3000\\u3000\\u3000\\u3000'"
      ]
     },
     "execution_count": 72,
     "metadata": {},
     "output_type": "execute_result"
    }
   ],
   "source": [
    "lines.split(\"\\n\")[0][62:87] # レース名"
   ]
  },
  {
   "cell_type": "code",
   "execution_count": 71,
   "id": "4d49ca95",
   "metadata": {
    "ExecuteTime": {
     "end_time": "2021-06-01T14:20:44.843050Z",
     "start_time": "2021-06-01T14:20:44.836048Z"
    }
   },
   "outputs": [
    {
     "data": {
      "text/plain": [
       "'08'"
      ]
     },
     "execution_count": 71,
     "metadata": {},
     "output_type": "execute_result"
    }
   ],
   "source": [
    "lines.split(\"\\n\")[0][87:89] # 頭数"
   ]
  },
  {
   "cell_type": "code",
   "execution_count": null,
   "id": "ba81d439",
   "metadata": {},
   "outputs": [],
   "source": [
    "lines.split(\"\\n\")[0][87:89] # 頭数"
   ]
  },
  {
   "cell_type": "code",
   "execution_count": 76,
   "id": "752db771",
   "metadata": {
    "ExecuteTime": {
     "end_time": "2021-06-01T14:23:08.853780Z",
     "start_time": "2021-06-01T14:23:08.835778Z"
    }
   },
   "outputs": [
    {
     "data": {
      "text/plain": [
       "'\\u3000\\u3000\\u3000\\u3000'"
      ]
     },
     "execution_count": 76,
     "metadata": {},
     "output_type": "execute_result"
    }
   ],
   "source": [
    "lines.split(\"\\n\")[0][89:93] # レース名略称"
   ]
  },
  {
   "cell_type": "code",
   "execution_count": 77,
   "id": "8f3833ee",
   "metadata": {
    "ExecuteTime": {
     "end_time": "2021-06-01T14:23:24.550206Z",
     "start_time": "2021-06-01T14:23:24.536202Z"
    }
   },
   "outputs": [
    {
     "data": {
      "text/plain": [
       "'01'"
      ]
     },
     "execution_count": 77,
     "metadata": {},
     "output_type": "execute_result"
    }
   ],
   "source": [
    "lines.split(\"\\n\")[0][93:95] # 着順"
   ]
  },
  {
   "cell_type": "code",
   "execution_count": 79,
   "id": "35403427",
   "metadata": {
    "ExecuteTime": {
     "end_time": "2021-06-01T14:23:49.931024Z",
     "start_time": "2021-06-01T14:23:49.924025Z"
    }
   },
   "outputs": [
    {
     "data": {
      "text/plain": [
       "'0'"
      ]
     },
     "execution_count": 79,
     "metadata": {},
     "output_type": "execute_result"
    }
   ],
   "source": [
    "lines.split(\"\\n\")[0][95:96] # 異常区分"
   ]
  },
  {
   "cell_type": "code",
   "execution_count": 80,
   "id": "dc1376bc",
   "metadata": {
    "ExecuteTime": {
     "end_time": "2021-06-01T14:24:18.852685Z",
     "start_time": "2021-06-01T14:24:18.834681Z"
    }
   },
   "outputs": [
    {
     "data": {
      "text/plain": [
       "'1103'"
      ]
     },
     "execution_count": 80,
     "metadata": {},
     "output_type": "execute_result"
    }
   ],
   "source": [
    "lines.split(\"\\n\")[0][96:100] # タイム、1分10秒3"
   ]
  },
  {
   "cell_type": "code",
   "execution_count": 81,
   "id": "ecc792da",
   "metadata": {
    "ExecuteTime": {
     "end_time": "2021-06-01T14:25:02.927034Z",
     "start_time": "2021-06-01T14:25:02.910029Z"
    }
   },
   "outputs": [
    {
     "data": {
      "text/plain": [
       "'540'"
      ]
     },
     "execution_count": 81,
     "metadata": {},
     "output_type": "execute_result"
    }
   ],
   "source": [
    "lines.split(\"\\n\")[0][100:103] # 斤量"
   ]
  },
  {
   "cell_type": "code",
   "execution_count": 82,
   "id": "07f76867",
   "metadata": {
    "ExecuteTime": {
     "end_time": "2021-06-01T14:26:12.944651Z",
     "start_time": "2021-06-01T14:26:12.933645Z"
    }
   },
   "outputs": [
    {
     "data": {
      "text/plain": [
       "'秋山真一郎\\u3000'"
      ]
     },
     "execution_count": 82,
     "metadata": {},
     "output_type": "execute_result"
    }
   ],
   "source": [
    "lines.split(\"\\n\")[0][103:109] # 騎手名"
   ]
  },
  {
   "cell_type": "code",
   "execution_count": 83,
   "id": "dab881a6",
   "metadata": {
    "ExecuteTime": {
     "end_time": "2021-06-01T14:26:31.750906Z",
     "start_time": "2021-06-01T14:26:31.746905Z"
    }
   },
   "outputs": [
    {
     "data": {
      "text/plain": [
       "'中尾秀正\\u3000\\u3000'"
      ]
     },
     "execution_count": 83,
     "metadata": {},
     "output_type": "execute_result"
    }
   ],
   "source": [
    "lines.split(\"\\n\")[0][109:115] # 調教師名"
   ]
  },
  {
   "cell_type": "code",
   "execution_count": 84,
   "id": "c77d5838",
   "metadata": {
    "ExecuteTime": {
     "end_time": "2021-06-01T14:26:53.177630Z",
     "start_time": "2021-06-01T14:26:53.171627Z"
    }
   },
   "outputs": [
    {
     "data": {
      "text/plain": [
       "'   8.8'"
      ]
     },
     "execution_count": 84,
     "metadata": {},
     "output_type": "execute_result"
    }
   ],
   "source": [
    "lines.split(\"\\n\")[0][115:121] # 確定単勝オッズ"
   ]
  },
  {
   "cell_type": "code",
   "execution_count": 85,
   "id": "c025f86f",
   "metadata": {
    "ExecuteTime": {
     "end_time": "2021-06-01T14:27:21.351804Z",
     "start_time": "2021-06-01T14:27:21.334800Z"
    }
   },
   "outputs": [
    {
     "data": {
      "text/plain": [
       "'03'"
      ]
     },
     "execution_count": 85,
     "metadata": {},
     "output_type": "execute_result"
    }
   ],
   "source": [
    "lines.split(\"\\n\")[0][121:123] # 確定単勝人気順位"
   ]
  },
  {
   "cell_type": "code",
   "execution_count": 86,
   "id": "10ecec2c",
   "metadata": {
    "ExecuteTime": {
     "end_time": "2021-06-01T14:27:44.195541Z",
     "start_time": "2021-06-01T14:27:44.184033Z"
    }
   },
   "outputs": [
    {
     "data": {
      "text/plain": [
       "' 45'"
      ]
     },
     "execution_count": 86,
     "metadata": {},
     "output_type": "execute_result"
    }
   ],
   "source": [
    "lines.split(\"\\n\")[0][123:126] # IDM、これ分からん"
   ]
  },
  {
   "cell_type": "code",
   "execution_count": 87,
   "id": "23d0c008",
   "metadata": {
    "ExecuteTime": {
     "end_time": "2021-06-01T14:29:31.714594Z",
     "start_time": "2021-06-01T14:29:31.707593Z"
    }
   },
   "outputs": [
    {
     "data": {
      "text/plain": [
       "' 43'"
      ]
     },
     "execution_count": 87,
     "metadata": {},
     "output_type": "execute_result"
    }
   ],
   "source": [
    "lines.split(\"\\n\")[0][126:129] # 素点、分からん"
   ]
  },
  {
   "cell_type": "code",
   "execution_count": 88,
   "id": "21da9a65",
   "metadata": {
    "ExecuteTime": {
     "end_time": "2021-06-01T14:30:08.269028Z",
     "start_time": "2021-06-01T14:30:08.258027Z"
    }
   },
   "outputs": [
    {
     "data": {
      "text/plain": [
       "' -8'"
      ]
     },
     "execution_count": 88,
     "metadata": {},
     "output_type": "execute_result"
    }
   ],
   "source": [
    "lines.split(\"\\n\")[0][129:132] # 馬場差、分からん"
   ]
  },
  {
   "cell_type": "code",
   "execution_count": 89,
   "id": "9e381786",
   "metadata": {
    "ExecuteTime": {
     "end_time": "2021-06-01T14:30:45.238405Z",
     "start_time": "2021-06-01T14:30:45.220402Z"
    }
   },
   "outputs": [
    {
     "data": {
      "text/plain": [
       "'  1'"
      ]
     },
     "execution_count": 89,
     "metadata": {},
     "output_type": "execute_result"
    }
   ],
   "source": [
    "lines.split(\"\\n\")[0][132:135] # ペース、分からん"
   ]
  },
  {
   "cell_type": "code",
   "execution_count": 90,
   "id": "f65b8b81",
   "metadata": {
    "ExecuteTime": {
     "end_time": "2021-06-01T14:31:16.788609Z",
     "start_time": "2021-06-01T14:31:16.769604Z"
    }
   },
   "outputs": [
    {
     "data": {
      "text/plain": [
       "'  1'"
      ]
     },
     "execution_count": 90,
     "metadata": {},
     "output_type": "execute_result"
    }
   ],
   "source": [
    "lines.split(\"\\n\")[0][135:138] # 出遅れ、分からん"
   ]
  },
  {
   "cell_type": "code",
   "execution_count": 91,
   "id": "a29c80bf",
   "metadata": {
    "ExecuteTime": {
     "end_time": "2021-06-01T14:31:46.461999Z",
     "start_time": "2021-06-01T14:31:46.456998Z"
    }
   },
   "outputs": [
    {
     "data": {
      "text/plain": [
       "'   '"
      ]
     },
     "execution_count": 91,
     "metadata": {},
     "output_type": "execute_result"
    }
   ],
   "source": [
    "lines.split(\"\\n\")[0][138:141] # 位置取り、分からん"
   ]
  },
  {
   "cell_type": "code",
   "execution_count": 1,
   "id": "103ab1df",
   "metadata": {
    "ExecuteTime": {
     "end_time": "2021-06-02T11:12:39.908495Z",
     "start_time": "2021-06-02T11:12:32.906505Z"
    }
   },
   "outputs": [],
   "source": [
    "import tensorflow"
   ]
  },
  {
   "cell_type": "code",
   "execution_count": null,
   "id": "7785b384",
   "metadata": {},
   "outputs": [],
   "source": []
  }
 ],
 "metadata": {
  "kernelspec": {
   "display_name": "Python 3",
   "language": "python",
   "name": "python3"
  },
  "language_info": {
   "codemirror_mode": {
    "name": "ipython",
    "version": 3
   },
   "file_extension": ".py",
   "mimetype": "text/x-python",
   "name": "python",
   "nbconvert_exporter": "python",
   "pygments_lexer": "ipython3",
   "version": "3.9.5"
  },
  "toc": {
   "base_numbering": 1,
   "nav_menu": {},
   "number_sections": true,
   "sideBar": true,
   "skip_h1_title": false,
   "title_cell": "Table of Contents",
   "title_sidebar": "Contents",
   "toc_cell": false,
   "toc_position": {},
   "toc_section_display": true,
   "toc_window_display": false
  }
 },
 "nbformat": 4,
 "nbformat_minor": 5
}
